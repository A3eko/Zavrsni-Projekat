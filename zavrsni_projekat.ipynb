{
 "cells": [
  {
   "cell_type": "code",
   "execution_count": 1,
   "id": "52d663c2",
   "metadata": {
    "ExecuteTime": {
     "end_time": "2023-04-18T16:05:15.289042Z",
     "start_time": "2023-04-18T16:05:14.458279Z"
    }
   },
   "outputs": [],
   "source": [
    "import pandas as pd\n",
    "import numpy as np\n",
    "import matplotlib.pyplot as plt\n",
    "import seaborn as sns\n",
    "import datetime as dt\n",
    "\n",
    "import sqlalchemy as sqdb\n",
    "from sqlalchemy import create_engine\n",
    "import mysql.connector as myconn\n",
    "\n",
    "import pycountry\n",
    "\n",
    "import gspread\n",
    "from oauth2client.service_account import ServiceAccountCredentials\n",
    "\n",
    "import keyring"
   ]
  },
  {
   "cell_type": "markdown",
   "id": "e8c5046f",
   "metadata": {},
   "source": [
    "## P R E U Z I M A Nj E\n",
    "podataka uz pomoc **gitdir** komande"
   ]
  },
  {
   "cell_type": "code",
   "execution_count": 2,
   "id": "88ad1086",
   "metadata": {
    "ExecuteTime": {
     "end_time": "2023-04-18T16:05:16.377758Z",
     "start_time": "2023-04-18T16:05:16.374935Z"
    }
   },
   "outputs": [],
   "source": [
    "#!gitdir \"https://github.com/fivethirtyeight/data/tree/master/primary-project-2022\""
   ]
  },
  {
   "cell_type": "code",
   "execution_count": 3,
   "id": "ed5998aa",
   "metadata": {
    "ExecuteTime": {
     "end_time": "2023-04-18T16:05:17.300263Z",
     "start_time": "2023-04-18T16:05:17.297571Z"
    }
   },
   "outputs": [],
   "source": [
    "#!ls"
   ]
  },
  {
   "cell_type": "markdown",
   "id": "51ad34a9",
   "metadata": {},
   "source": [
    "****"
   ]
  },
  {
   "cell_type": "markdown",
   "id": "569d5fbd",
   "metadata": {},
   "source": [
    "## U C I T A V A Nj E\n",
    "\n",
    "podataka uz pomoc **pandas** paketa"
   ]
  },
  {
   "cell_type": "code",
   "execution_count": 4,
   "id": "fb0f6e8c",
   "metadata": {
    "ExecuteTime": {
     "end_time": "2023-04-18T16:05:18.628929Z",
     "start_time": "2023-04-18T16:05:18.624135Z"
    }
   },
   "outputs": [],
   "source": [
    "pd.set_option('display.max_columns', None)"
   ]
  },
  {
   "cell_type": "code",
   "execution_count": 5,
   "id": "e24ceeba",
   "metadata": {
    "ExecuteTime": {
     "end_time": "2023-04-18T16:05:19.323394Z",
     "start_time": "2023-04-18T16:05:19.305488Z"
    }
   },
   "outputs": [],
   "source": [
    "dem_c = pd.read_csv('primary-project-2022/dem_candidates.csv')\n",
    "rep_c = pd.read_csv('primary-project-2022/rep_candidates.csv')"
   ]
  },
  {
   "cell_type": "code",
   "execution_count": 6,
   "id": "fdffe650",
   "metadata": {
    "ExecuteTime": {
     "end_time": "2023-04-18T16:05:20.218922Z",
     "start_time": "2023-04-18T16:05:20.206522Z"
    }
   },
   "outputs": [
    {
     "name": "stdout",
     "output_type": "stream",
     "text": [
      "<class 'pandas.core.frame.DataFrame'>\n",
      "RangeIndex: 1077 entries, 0 to 1076\n",
      "Data columns (total 26 columns):\n",
      " #   Column                Non-Null Count  Dtype \n",
      "---  ------                --------------  ----- \n",
      " 0   Candidate             1077 non-null   object\n",
      " 1   Gender                1077 non-null   object\n",
      " 2   Race 1                1077 non-null   object\n",
      " 3   Race 2                30 non-null     object\n",
      " 4   Race 3                1 non-null      object\n",
      " 5   Incumbent             1077 non-null   object\n",
      " 6   Incumbent Challenger  1077 non-null   object\n",
      " 7   State                 1077 non-null   object\n",
      " 8   Primary Date          1077 non-null   object\n",
      " 9   Office                1077 non-null   object\n",
      " 10  District              852 non-null    object\n",
      " 11  Primary Votes         1076 non-null   object\n",
      " 12  Primary %             1076 non-null   object\n",
      " 13  Primary Outcome       1077 non-null   object\n",
      " 14  Runoff Votes          24 non-null     object\n",
      " 15  Runoff %              24 non-null     object\n",
      " 16  Runoff Outcome        24 non-null     object\n",
      " 17  EMILY's List          186 non-null    object\n",
      " 18  Justice Dems          44 non-null     object\n",
      " 19  Indivisible           76 non-null     object\n",
      " 20  PCCC                  108 non-null    object\n",
      " 21  Our Revolution        105 non-null    object\n",
      " 22  Sunrise               53 non-null     object\n",
      " 23  Sanders               102 non-null    object\n",
      " 24  AOC                   38 non-null     object\n",
      " 25  Party Committee       54 non-null     object\n",
      "dtypes: object(26)\n",
      "memory usage: 218.9+ KB\n"
     ]
    }
   ],
   "source": [
    "dem_c.info()"
   ]
  },
  {
   "cell_type": "code",
   "execution_count": 7,
   "id": "7835c1d1",
   "metadata": {
    "ExecuteTime": {
     "end_time": "2023-04-18T16:05:20.909307Z",
     "start_time": "2023-04-18T16:05:20.895493Z"
    }
   },
   "outputs": [
    {
     "name": "stdout",
     "output_type": "stream",
     "text": [
      "<class 'pandas.core.frame.DataFrame'>\n",
      "RangeIndex: 1599 entries, 0 to 1598\n",
      "Data columns (total 27 columns):\n",
      " #   Column                Non-Null Count  Dtype \n",
      "---  ------                --------------  ----- \n",
      " 0   Candidate             1599 non-null   object\n",
      " 1   Gender                1599 non-null   object\n",
      " 2   Race 1                1599 non-null   object\n",
      " 3   Race 2                30 non-null     object\n",
      " 4   Race 3                1 non-null      object\n",
      " 5   Incumbent             1599 non-null   object\n",
      " 6   Incumbent Challenger  1599 non-null   object\n",
      " 7   State                 1599 non-null   object\n",
      " 8   Primary Date          1599 non-null   object\n",
      " 9   Office                1599 non-null   object\n",
      " 10  District              1214 non-null   object\n",
      " 11  Primary Votes         1592 non-null   object\n",
      " 12  Primary %             1592 non-null   object\n",
      " 13  Primary Outcome       1599 non-null   object\n",
      " 14  Runoff Votes          39 non-null     object\n",
      " 15  Runoff %              39 non-null     object\n",
      " 16  Runoff Outcome        39 non-null     object\n",
      " 17  2020 Election Stance  1599 non-null   object\n",
      " 18  Trump                 597 non-null    object\n",
      " 19  Trump Date            192 non-null    object\n",
      " 20  Club for Growth       120 non-null    object\n",
      " 21  Party Committee       184 non-null    object\n",
      " 22  Renew America         46 non-null     object\n",
      " 23  E-PAC                 106 non-null    object\n",
      " 24  VIEW PAC              269 non-null    object\n",
      " 25  Maggie's List         195 non-null    object\n",
      " 26  Winning for Women     88 non-null     object\n",
      "dtypes: object(27)\n",
      "memory usage: 337.4+ KB\n"
     ]
    }
   ],
   "source": [
    "rep_c.info()"
   ]
  },
  {
   "cell_type": "markdown",
   "id": "08a5c48c",
   "metadata": {},
   "source": [
    "****"
   ]
  },
  {
   "cell_type": "markdown",
   "id": "9c3af929",
   "metadata": {},
   "source": [
    "## U P I S \n",
    "podataka uz pomoc **sqlalchemy** biblioteke"
   ]
  },
  {
   "cell_type": "code",
   "execution_count": 8,
   "id": "5663957c",
   "metadata": {
    "ExecuteTime": {
     "end_time": "2023-04-18T16:05:22.611265Z",
     "start_time": "2023-04-18T16:05:22.442211Z"
    }
   },
   "outputs": [],
   "source": [
    "sql_psswd = keyring.get_password('mysql', 'aleksandar')\n",
    "email_psswd = keyring.get_password('email', 'aleksandar')\n",
    "\n",
    "engine = create_engine('mysql+mysqlconnector://aleksandar:%s@localhost:3306/developers_lab' %sql_psswd)"
   ]
  },
  {
   "cell_type": "code",
   "execution_count": 9,
   "id": "1f994c85",
   "metadata": {
    "ExecuteTime": {
     "end_time": "2023-04-18T16:05:23.102207Z",
     "start_time": "2023-04-18T16:05:23.064145Z"
    }
   },
   "outputs": [],
   "source": [
    "mydb = myconn.connect(\n",
    "        host = 'localhost',\n",
    "        username = 'aleksandar',\n",
    "        port = '3306',\n",
    "        password= sql_psswd,\n",
    "        database='developers_lab'\n",
    ")"
   ]
  },
  {
   "cell_type": "code",
   "execution_count": 10,
   "id": "8aa27284",
   "metadata": {
    "ExecuteTime": {
     "end_time": "2023-04-18T16:05:24.829681Z",
     "start_time": "2023-04-18T16:05:23.632058Z"
    }
   },
   "outputs": [],
   "source": [
    "try:    \n",
    "    dem_c.to_sql('dem_candidates', con= engine, index=False, if_exists='replace')\n",
    "except:\n",
    "    print(\"There is some problem.\\nCheck engine settings\")\n",
    "finally:\n",
    "    engine.dispose()"
   ]
  },
  {
   "cell_type": "code",
   "execution_count": 11,
   "id": "32abae72",
   "metadata": {
    "ExecuteTime": {
     "end_time": "2023-04-18T16:05:25.474997Z",
     "start_time": "2023-04-18T16:05:24.837035Z"
    }
   },
   "outputs": [],
   "source": [
    "try:    \n",
    "    rep_c.to_sql('rep_candidates', con= engine, index=False, if_exists='replace')\n",
    "except:\n",
    "    print(\"There is some problem.\\nCheck engine settings\")\n",
    "finally:\n",
    "    engine.dispose()"
   ]
  },
  {
   "cell_type": "markdown",
   "id": "540eff03",
   "metadata": {},
   "source": [
    "****"
   ]
  },
  {
   "cell_type": "markdown",
   "id": "a5bd4fcd",
   "metadata": {},
   "source": [
    "## U C I T A V A Nj E \n",
    "podataka u **DF**"
   ]
  },
  {
   "cell_type": "code",
   "execution_count": 12,
   "id": "e72de9d2",
   "metadata": {
    "ExecuteTime": {
     "end_time": "2023-04-18T16:05:26.958240Z",
     "start_time": "2023-04-18T16:05:26.937632Z"
    }
   },
   "outputs": [],
   "source": [
    "cursor = mydb.cursor()\n",
    "\n",
    "cursor.execute('SELECT table_name FROM information_schema.tables WHERE table_schema = \"developers_lab\";')"
   ]
  },
  {
   "cell_type": "code",
   "execution_count": 13,
   "id": "1aea2b7e",
   "metadata": {
    "ExecuteTime": {
     "end_time": "2023-04-18T16:05:28.839800Z",
     "start_time": "2023-04-18T16:05:28.836595Z"
    }
   },
   "outputs": [
    {
     "name": "stdout",
     "output_type": "stream",
     "text": [
      "('dem_candidates',)\n",
      "('rep_candidates',)\n"
     ]
    }
   ],
   "source": [
    "for x in cursor:\n",
    "    print(x)"
   ]
  },
  {
   "cell_type": "code",
   "execution_count": 14,
   "id": "a216cc71",
   "metadata": {
    "ExecuteTime": {
     "end_time": "2023-04-18T16:05:31.155028Z",
     "start_time": "2023-04-18T16:05:31.100973Z"
    }
   },
   "outputs": [],
   "source": [
    "dem = pd.read_sql('SELECT * FROM dem_candidates;', con=engine)\n",
    "rep = pd.read_sql('SELECT * FROM rep_candidates;', con=engine)"
   ]
  },
  {
   "cell_type": "code",
   "execution_count": 15,
   "id": "1c1c0364",
   "metadata": {
    "ExecuteTime": {
     "end_time": "2023-04-18T16:05:32.842780Z",
     "start_time": "2023-04-18T16:05:32.824141Z"
    }
   },
   "outputs": [
    {
     "data": {
      "text/html": [
       "<div>\n",
       "<style scoped>\n",
       "    .dataframe tbody tr th:only-of-type {\n",
       "        vertical-align: middle;\n",
       "    }\n",
       "\n",
       "    .dataframe tbody tr th {\n",
       "        vertical-align: top;\n",
       "    }\n",
       "\n",
       "    .dataframe thead th {\n",
       "        text-align: right;\n",
       "    }\n",
       "</style>\n",
       "<table border=\"1\" class=\"dataframe\">\n",
       "  <thead>\n",
       "    <tr style=\"text-align: right;\">\n",
       "      <th></th>\n",
       "      <th>Candidate</th>\n",
       "      <th>Gender</th>\n",
       "      <th>Race 1</th>\n",
       "      <th>Race 2</th>\n",
       "      <th>Race 3</th>\n",
       "      <th>Incumbent</th>\n",
       "      <th>Incumbent Challenger</th>\n",
       "      <th>State</th>\n",
       "      <th>Primary Date</th>\n",
       "      <th>Office</th>\n",
       "      <th>District</th>\n",
       "      <th>Primary Votes</th>\n",
       "      <th>Primary %</th>\n",
       "      <th>Primary Outcome</th>\n",
       "      <th>Runoff Votes</th>\n",
       "      <th>Runoff %</th>\n",
       "      <th>Runoff Outcome</th>\n",
       "      <th>EMILY's List</th>\n",
       "      <th>Justice Dems</th>\n",
       "      <th>Indivisible</th>\n",
       "      <th>PCCC</th>\n",
       "      <th>Our Revolution</th>\n",
       "      <th>Sunrise</th>\n",
       "      <th>Sanders</th>\n",
       "      <th>AOC</th>\n",
       "      <th>Party Committee</th>\n",
       "    </tr>\n",
       "  </thead>\n",
       "  <tbody>\n",
       "    <tr>\n",
       "      <th>0</th>\n",
       "      <td>Gavin Dass</td>\n",
       "      <td>Male</td>\n",
       "      <td>White</td>\n",
       "      <td>Asian (Indian)</td>\n",
       "      <td>None</td>\n",
       "      <td>No</td>\n",
       "      <td>No</td>\n",
       "      <td>Texas</td>\n",
       "      <td>3/1/22</td>\n",
       "      <td>Representative</td>\n",
       "      <td>1</td>\n",
       "      <td>1,881</td>\n",
       "      <td>12%</td>\n",
       "      <td>Lost</td>\n",
       "      <td>None</td>\n",
       "      <td>None</td>\n",
       "      <td>None</td>\n",
       "      <td>None</td>\n",
       "      <td>None</td>\n",
       "      <td>None</td>\n",
       "      <td>None</td>\n",
       "      <td>None</td>\n",
       "      <td>None</td>\n",
       "      <td>None</td>\n",
       "      <td>None</td>\n",
       "      <td>None</td>\n",
       "    </tr>\n",
       "    <tr>\n",
       "      <th>1</th>\n",
       "      <td>Victor D. Dunn</td>\n",
       "      <td>Male</td>\n",
       "      <td>Black</td>\n",
       "      <td>None</td>\n",
       "      <td>None</td>\n",
       "      <td>No</td>\n",
       "      <td>No</td>\n",
       "      <td>Texas</td>\n",
       "      <td>3/1/22</td>\n",
       "      <td>Representative</td>\n",
       "      <td>1</td>\n",
       "      <td>4,554</td>\n",
       "      <td>28%</td>\n",
       "      <td>Made runoff</td>\n",
       "      <td>1,783</td>\n",
       "      <td>24%</td>\n",
       "      <td>Lost</td>\n",
       "      <td>None</td>\n",
       "      <td>None</td>\n",
       "      <td>None</td>\n",
       "      <td>None</td>\n",
       "      <td>None</td>\n",
       "      <td>None</td>\n",
       "      <td>None</td>\n",
       "      <td>None</td>\n",
       "      <td>None</td>\n",
       "    </tr>\n",
       "    <tr>\n",
       "      <th>2</th>\n",
       "      <td>Jrmar \"JJ\" Jefferson</td>\n",
       "      <td>Male</td>\n",
       "      <td>Black</td>\n",
       "      <td>None</td>\n",
       "      <td>None</td>\n",
       "      <td>No</td>\n",
       "      <td>No</td>\n",
       "      <td>Texas</td>\n",
       "      <td>3/1/22</td>\n",
       "      <td>Representative</td>\n",
       "      <td>1</td>\n",
       "      <td>7,411</td>\n",
       "      <td>45%</td>\n",
       "      <td>Made runoff</td>\n",
       "      <td>5,607</td>\n",
       "      <td>76%</td>\n",
       "      <td>Won</td>\n",
       "      <td>None</td>\n",
       "      <td>None</td>\n",
       "      <td>None</td>\n",
       "      <td>None</td>\n",
       "      <td>None</td>\n",
       "      <td>None</td>\n",
       "      <td>None</td>\n",
       "      <td>None</td>\n",
       "      <td>None</td>\n",
       "    </tr>\n",
       "    <tr>\n",
       "      <th>3</th>\n",
       "      <td>Stephen Kocen</td>\n",
       "      <td>Male</td>\n",
       "      <td>White</td>\n",
       "      <td>None</td>\n",
       "      <td>None</td>\n",
       "      <td>No</td>\n",
       "      <td>No</td>\n",
       "      <td>Texas</td>\n",
       "      <td>3/1/22</td>\n",
       "      <td>Representative</td>\n",
       "      <td>1</td>\n",
       "      <td>2,457</td>\n",
       "      <td>15%</td>\n",
       "      <td>Lost</td>\n",
       "      <td>None</td>\n",
       "      <td>None</td>\n",
       "      <td>None</td>\n",
       "      <td>None</td>\n",
       "      <td>None</td>\n",
       "      <td>None</td>\n",
       "      <td>None</td>\n",
       "      <td>None</td>\n",
       "      <td>None</td>\n",
       "      <td>None</td>\n",
       "      <td>None</td>\n",
       "      <td>None</td>\n",
       "    </tr>\n",
       "    <tr>\n",
       "      <th>4</th>\n",
       "      <td>Robin Fulford</td>\n",
       "      <td>Female</td>\n",
       "      <td>White</td>\n",
       "      <td>None</td>\n",
       "      <td>None</td>\n",
       "      <td>No</td>\n",
       "      <td>No</td>\n",
       "      <td>Texas</td>\n",
       "      <td>3/1/22</td>\n",
       "      <td>Representative</td>\n",
       "      <td>2</td>\n",
       "      <td>17,160</td>\n",
       "      <td>100%</td>\n",
       "      <td>Won</td>\n",
       "      <td>None</td>\n",
       "      <td>None</td>\n",
       "      <td>None</td>\n",
       "      <td>None</td>\n",
       "      <td>None</td>\n",
       "      <td>None</td>\n",
       "      <td>None</td>\n",
       "      <td>None</td>\n",
       "      <td>None</td>\n",
       "      <td>None</td>\n",
       "      <td>None</td>\n",
       "      <td>None</td>\n",
       "    </tr>\n",
       "  </tbody>\n",
       "</table>\n",
       "</div>"
      ],
      "text/plain": [
       "              Candidate  Gender Race 1          Race 2 Race 3 Incumbent  \\\n",
       "0            Gavin Dass    Male  White  Asian (Indian)   None        No   \n",
       "1        Victor D. Dunn    Male  Black            None   None        No   \n",
       "2  Jrmar \"JJ\" Jefferson    Male  Black            None   None        No   \n",
       "3         Stephen Kocen    Male  White            None   None        No   \n",
       "4         Robin Fulford  Female  White            None   None        No   \n",
       "\n",
       "  Incumbent Challenger  State Primary Date          Office District  \\\n",
       "0                   No  Texas       3/1/22  Representative        1   \n",
       "1                   No  Texas       3/1/22  Representative        1   \n",
       "2                   No  Texas       3/1/22  Representative        1   \n",
       "3                   No  Texas       3/1/22  Representative        1   \n",
       "4                   No  Texas       3/1/22  Representative        2   \n",
       "\n",
       "  Primary Votes Primary % Primary Outcome Runoff Votes Runoff %  \\\n",
       "0         1,881       12%            Lost         None     None   \n",
       "1         4,554       28%     Made runoff        1,783      24%   \n",
       "2         7,411       45%     Made runoff        5,607      76%   \n",
       "3         2,457       15%            Lost         None     None   \n",
       "4        17,160      100%             Won         None     None   \n",
       "\n",
       "  Runoff Outcome EMILY's List Justice Dems Indivisible  PCCC Our Revolution  \\\n",
       "0           None         None         None        None  None           None   \n",
       "1           Lost         None         None        None  None           None   \n",
       "2            Won         None         None        None  None           None   \n",
       "3           None         None         None        None  None           None   \n",
       "4           None         None         None        None  None           None   \n",
       "\n",
       "  Sunrise Sanders   AOC Party Committee  \n",
       "0    None    None  None            None  \n",
       "1    None    None  None            None  \n",
       "2    None    None  None            None  \n",
       "3    None    None  None            None  \n",
       "4    None    None  None            None  "
      ]
     },
     "execution_count": 15,
     "metadata": {},
     "output_type": "execute_result"
    }
   ],
   "source": [
    "dem.head()"
   ]
  },
  {
   "cell_type": "code",
   "execution_count": 16,
   "id": "89620ae0",
   "metadata": {
    "ExecuteTime": {
     "end_time": "2023-04-18T16:05:33.843214Z",
     "start_time": "2023-04-18T16:05:33.826037Z"
    }
   },
   "outputs": [
    {
     "data": {
      "text/html": [
       "<div>\n",
       "<style scoped>\n",
       "    .dataframe tbody tr th:only-of-type {\n",
       "        vertical-align: middle;\n",
       "    }\n",
       "\n",
       "    .dataframe tbody tr th {\n",
       "        vertical-align: top;\n",
       "    }\n",
       "\n",
       "    .dataframe thead th {\n",
       "        text-align: right;\n",
       "    }\n",
       "</style>\n",
       "<table border=\"1\" class=\"dataframe\">\n",
       "  <thead>\n",
       "    <tr style=\"text-align: right;\">\n",
       "      <th></th>\n",
       "      <th>Candidate</th>\n",
       "      <th>Gender</th>\n",
       "      <th>Race 1</th>\n",
       "      <th>Race 2</th>\n",
       "      <th>Race 3</th>\n",
       "      <th>Incumbent</th>\n",
       "      <th>Incumbent Challenger</th>\n",
       "      <th>State</th>\n",
       "      <th>Primary Date</th>\n",
       "      <th>Office</th>\n",
       "      <th>District</th>\n",
       "      <th>Primary Votes</th>\n",
       "      <th>Primary %</th>\n",
       "      <th>Primary Outcome</th>\n",
       "      <th>Runoff Votes</th>\n",
       "      <th>Runoff %</th>\n",
       "      <th>Runoff Outcome</th>\n",
       "      <th>2020 Election Stance</th>\n",
       "      <th>Trump</th>\n",
       "      <th>Trump Date</th>\n",
       "      <th>Club for Growth</th>\n",
       "      <th>Party Committee</th>\n",
       "      <th>Renew America</th>\n",
       "      <th>E-PAC</th>\n",
       "      <th>VIEW PAC</th>\n",
       "      <th>Maggie's List</th>\n",
       "      <th>Winning for Women</th>\n",
       "    </tr>\n",
       "  </thead>\n",
       "  <tbody>\n",
       "    <tr>\n",
       "      <th>0</th>\n",
       "      <td>Aditya \"A.D.\" Atholi</td>\n",
       "      <td>Male</td>\n",
       "      <td>Asian (Indian)</td>\n",
       "      <td>None</td>\n",
       "      <td>None</td>\n",
       "      <td>No</td>\n",
       "      <td>No</td>\n",
       "      <td>Texas</td>\n",
       "      <td>3/1/22</td>\n",
       "      <td>Representative</td>\n",
       "      <td>1</td>\n",
       "      <td>6,186</td>\n",
       "      <td>8%</td>\n",
       "      <td>Lost</td>\n",
       "      <td>None</td>\n",
       "      <td>None</td>\n",
       "      <td>None</td>\n",
       "      <td>No comment</td>\n",
       "      <td>None</td>\n",
       "      <td>None</td>\n",
       "      <td>None</td>\n",
       "      <td>None</td>\n",
       "      <td>None</td>\n",
       "      <td>None</td>\n",
       "      <td>None</td>\n",
       "      <td>None</td>\n",
       "      <td>None</td>\n",
       "    </tr>\n",
       "    <tr>\n",
       "      <th>1</th>\n",
       "      <td>Joe McDaniel</td>\n",
       "      <td>Male</td>\n",
       "      <td>White</td>\n",
       "      <td>None</td>\n",
       "      <td>None</td>\n",
       "      <td>No</td>\n",
       "      <td>No</td>\n",
       "      <td>Texas</td>\n",
       "      <td>3/1/22</td>\n",
       "      <td>Representative</td>\n",
       "      <td>1</td>\n",
       "      <td>19,708</td>\n",
       "      <td>24%</td>\n",
       "      <td>Lost</td>\n",
       "      <td>None</td>\n",
       "      <td>None</td>\n",
       "      <td>None</td>\n",
       "      <td>Raised questions</td>\n",
       "      <td>None</td>\n",
       "      <td>None</td>\n",
       "      <td>None</td>\n",
       "      <td>None</td>\n",
       "      <td>None</td>\n",
       "      <td>None</td>\n",
       "      <td>None</td>\n",
       "      <td>None</td>\n",
       "      <td>None</td>\n",
       "    </tr>\n",
       "    <tr>\n",
       "      <th>2</th>\n",
       "      <td>Nathaniel Moran</td>\n",
       "      <td>Male</td>\n",
       "      <td>White</td>\n",
       "      <td>None</td>\n",
       "      <td>None</td>\n",
       "      <td>No</td>\n",
       "      <td>No</td>\n",
       "      <td>Texas</td>\n",
       "      <td>3/1/22</td>\n",
       "      <td>Representative</td>\n",
       "      <td>1</td>\n",
       "      <td>51,312</td>\n",
       "      <td>63%</td>\n",
       "      <td>Won</td>\n",
       "      <td>None</td>\n",
       "      <td>None</td>\n",
       "      <td>None</td>\n",
       "      <td>Raised questions</td>\n",
       "      <td>None</td>\n",
       "      <td>None</td>\n",
       "      <td>None</td>\n",
       "      <td>None</td>\n",
       "      <td>None</td>\n",
       "      <td>None</td>\n",
       "      <td>None</td>\n",
       "      <td>None</td>\n",
       "      <td>None</td>\n",
       "    </tr>\n",
       "    <tr>\n",
       "      <th>3</th>\n",
       "      <td>John Porro</td>\n",
       "      <td>Male</td>\n",
       "      <td>White</td>\n",
       "      <td>None</td>\n",
       "      <td>None</td>\n",
       "      <td>No</td>\n",
       "      <td>No</td>\n",
       "      <td>Texas</td>\n",
       "      <td>3/1/22</td>\n",
       "      <td>Representative</td>\n",
       "      <td>1</td>\n",
       "      <td>4,238</td>\n",
       "      <td>5%</td>\n",
       "      <td>Lost</td>\n",
       "      <td>None</td>\n",
       "      <td>None</td>\n",
       "      <td>None</td>\n",
       "      <td>No comment</td>\n",
       "      <td>None</td>\n",
       "      <td>None</td>\n",
       "      <td>None</td>\n",
       "      <td>None</td>\n",
       "      <td>None</td>\n",
       "      <td>None</td>\n",
       "      <td>None</td>\n",
       "      <td>None</td>\n",
       "      <td>None</td>\n",
       "    </tr>\n",
       "    <tr>\n",
       "      <th>4</th>\n",
       "      <td>Dan Crenshaw</td>\n",
       "      <td>Male</td>\n",
       "      <td>White</td>\n",
       "      <td>None</td>\n",
       "      <td>None</td>\n",
       "      <td>Yes</td>\n",
       "      <td>No</td>\n",
       "      <td>Texas</td>\n",
       "      <td>3/1/22</td>\n",
       "      <td>Representative</td>\n",
       "      <td>2</td>\n",
       "      <td>45,863</td>\n",
       "      <td>74%</td>\n",
       "      <td>Won</td>\n",
       "      <td>None</td>\n",
       "      <td>None</td>\n",
       "      <td>None</td>\n",
       "      <td>Accepted with reservations</td>\n",
       "      <td>None</td>\n",
       "      <td>None</td>\n",
       "      <td>None</td>\n",
       "      <td>None</td>\n",
       "      <td>None</td>\n",
       "      <td>None</td>\n",
       "      <td>None</td>\n",
       "      <td>None</td>\n",
       "      <td>None</td>\n",
       "    </tr>\n",
       "  </tbody>\n",
       "</table>\n",
       "</div>"
      ],
      "text/plain": [
       "              Candidate Gender          Race 1 Race 2 Race 3 Incumbent  \\\n",
       "0  Aditya \"A.D.\" Atholi   Male  Asian (Indian)   None   None        No   \n",
       "1          Joe McDaniel   Male           White   None   None        No   \n",
       "2       Nathaniel Moran   Male           White   None   None        No   \n",
       "3            John Porro   Male           White   None   None        No   \n",
       "4          Dan Crenshaw   Male           White   None   None       Yes   \n",
       "\n",
       "  Incumbent Challenger  State Primary Date          Office District  \\\n",
       "0                   No  Texas       3/1/22  Representative        1   \n",
       "1                   No  Texas       3/1/22  Representative        1   \n",
       "2                   No  Texas       3/1/22  Representative        1   \n",
       "3                   No  Texas       3/1/22  Representative        1   \n",
       "4                   No  Texas       3/1/22  Representative        2   \n",
       "\n",
       "  Primary Votes Primary % Primary Outcome Runoff Votes Runoff %  \\\n",
       "0         6,186        8%            Lost         None     None   \n",
       "1        19,708       24%            Lost         None     None   \n",
       "2        51,312       63%             Won         None     None   \n",
       "3         4,238        5%            Lost         None     None   \n",
       "4        45,863       74%             Won         None     None   \n",
       "\n",
       "  Runoff Outcome        2020 Election Stance Trump Trump Date Club for Growth  \\\n",
       "0           None                  No comment  None       None            None   \n",
       "1           None            Raised questions  None       None            None   \n",
       "2           None            Raised questions  None       None            None   \n",
       "3           None                  No comment  None       None            None   \n",
       "4           None  Accepted with reservations  None       None            None   \n",
       "\n",
       "  Party Committee Renew America E-PAC VIEW PAC Maggie's List Winning for Women  \n",
       "0            None          None  None     None          None              None  \n",
       "1            None          None  None     None          None              None  \n",
       "2            None          None  None     None          None              None  \n",
       "3            None          None  None     None          None              None  \n",
       "4            None          None  None     None          None              None  "
      ]
     },
     "execution_count": 16,
     "metadata": {},
     "output_type": "execute_result"
    }
   ],
   "source": [
    "rep.head()"
   ]
  },
  {
   "cell_type": "code",
   "execution_count": 17,
   "id": "fb6a0437",
   "metadata": {
    "ExecuteTime": {
     "end_time": "2023-04-18T16:05:34.521426Z",
     "start_time": "2023-04-18T16:05:34.516171Z"
    }
   },
   "outputs": [
    {
     "name": "stdout",
     "output_type": "stream",
     "text": [
      "The dataframes are equal\n"
     ]
    }
   ],
   "source": [
    "if dem.equals(dem_c):\n",
    "    print(\"The dataframes are equal\")\n",
    "else:\n",
    "    print(\"The dataframes are not equal\")"
   ]
  },
  {
   "cell_type": "code",
   "execution_count": 18,
   "id": "a8d30711",
   "metadata": {
    "ExecuteTime": {
     "end_time": "2023-04-18T16:05:35.221068Z",
     "start_time": "2023-04-18T16:05:35.213481Z"
    }
   },
   "outputs": [],
   "source": [
    "mydb.close()"
   ]
  },
  {
   "cell_type": "markdown",
   "id": "5d3921b1",
   "metadata": {},
   "source": [
    "****"
   ]
  },
  {
   "cell_type": "markdown",
   "id": "68a87fac",
   "metadata": {},
   "source": [
    "## A N A L I Z A \n",
    "podataka\n"
   ]
  },
  {
   "cell_type": "code",
   "execution_count": 19,
   "id": "d7ed7bd7",
   "metadata": {
    "ExecuteTime": {
     "end_time": "2023-04-18T16:05:36.491781Z",
     "start_time": "2023-04-18T16:05:36.474099Z"
    }
   },
   "outputs": [
    {
     "data": {
      "text/html": [
       "<div>\n",
       "<style scoped>\n",
       "    .dataframe tbody tr th:only-of-type {\n",
       "        vertical-align: middle;\n",
       "    }\n",
       "\n",
       "    .dataframe tbody tr th {\n",
       "        vertical-align: top;\n",
       "    }\n",
       "\n",
       "    .dataframe thead th {\n",
       "        text-align: right;\n",
       "    }\n",
       "</style>\n",
       "<table border=\"1\" class=\"dataframe\">\n",
       "  <thead>\n",
       "    <tr style=\"text-align: right;\">\n",
       "      <th></th>\n",
       "      <th>Candidate</th>\n",
       "      <th>Gender</th>\n",
       "      <th>Race 1</th>\n",
       "      <th>Race 2</th>\n",
       "      <th>Race 3</th>\n",
       "      <th>Incumbent</th>\n",
       "      <th>Incumbent Challenger</th>\n",
       "      <th>State</th>\n",
       "      <th>Primary Date</th>\n",
       "      <th>Office</th>\n",
       "      <th>District</th>\n",
       "      <th>Primary Votes</th>\n",
       "      <th>Primary %</th>\n",
       "      <th>Primary Outcome</th>\n",
       "      <th>Runoff Votes</th>\n",
       "      <th>Runoff %</th>\n",
       "      <th>Runoff Outcome</th>\n",
       "      <th>EMILY's List</th>\n",
       "      <th>Justice Dems</th>\n",
       "      <th>Indivisible</th>\n",
       "      <th>PCCC</th>\n",
       "      <th>Our Revolution</th>\n",
       "      <th>Sunrise</th>\n",
       "      <th>Sanders</th>\n",
       "      <th>AOC</th>\n",
       "      <th>Party Committee</th>\n",
       "    </tr>\n",
       "  </thead>\n",
       "  <tbody>\n",
       "    <tr>\n",
       "      <th>0</th>\n",
       "      <td>Gavin Dass</td>\n",
       "      <td>Male</td>\n",
       "      <td>White</td>\n",
       "      <td>Asian (Indian)</td>\n",
       "      <td>None</td>\n",
       "      <td>No</td>\n",
       "      <td>No</td>\n",
       "      <td>Texas</td>\n",
       "      <td>3/1/22</td>\n",
       "      <td>Representative</td>\n",
       "      <td>1</td>\n",
       "      <td>1,881</td>\n",
       "      <td>12%</td>\n",
       "      <td>Lost</td>\n",
       "      <td>None</td>\n",
       "      <td>None</td>\n",
       "      <td>None</td>\n",
       "      <td>None</td>\n",
       "      <td>None</td>\n",
       "      <td>None</td>\n",
       "      <td>None</td>\n",
       "      <td>None</td>\n",
       "      <td>None</td>\n",
       "      <td>None</td>\n",
       "      <td>None</td>\n",
       "      <td>None</td>\n",
       "    </tr>\n",
       "    <tr>\n",
       "      <th>1</th>\n",
       "      <td>Victor D. Dunn</td>\n",
       "      <td>Male</td>\n",
       "      <td>Black</td>\n",
       "      <td>None</td>\n",
       "      <td>None</td>\n",
       "      <td>No</td>\n",
       "      <td>No</td>\n",
       "      <td>Texas</td>\n",
       "      <td>3/1/22</td>\n",
       "      <td>Representative</td>\n",
       "      <td>1</td>\n",
       "      <td>4,554</td>\n",
       "      <td>28%</td>\n",
       "      <td>Made runoff</td>\n",
       "      <td>1,783</td>\n",
       "      <td>24%</td>\n",
       "      <td>Lost</td>\n",
       "      <td>None</td>\n",
       "      <td>None</td>\n",
       "      <td>None</td>\n",
       "      <td>None</td>\n",
       "      <td>None</td>\n",
       "      <td>None</td>\n",
       "      <td>None</td>\n",
       "      <td>None</td>\n",
       "      <td>None</td>\n",
       "    </tr>\n",
       "    <tr>\n",
       "      <th>2</th>\n",
       "      <td>Jrmar \"JJ\" Jefferson</td>\n",
       "      <td>Male</td>\n",
       "      <td>Black</td>\n",
       "      <td>None</td>\n",
       "      <td>None</td>\n",
       "      <td>No</td>\n",
       "      <td>No</td>\n",
       "      <td>Texas</td>\n",
       "      <td>3/1/22</td>\n",
       "      <td>Representative</td>\n",
       "      <td>1</td>\n",
       "      <td>7,411</td>\n",
       "      <td>45%</td>\n",
       "      <td>Made runoff</td>\n",
       "      <td>5,607</td>\n",
       "      <td>76%</td>\n",
       "      <td>Won</td>\n",
       "      <td>None</td>\n",
       "      <td>None</td>\n",
       "      <td>None</td>\n",
       "      <td>None</td>\n",
       "      <td>None</td>\n",
       "      <td>None</td>\n",
       "      <td>None</td>\n",
       "      <td>None</td>\n",
       "      <td>None</td>\n",
       "    </tr>\n",
       "    <tr>\n",
       "      <th>3</th>\n",
       "      <td>Stephen Kocen</td>\n",
       "      <td>Male</td>\n",
       "      <td>White</td>\n",
       "      <td>None</td>\n",
       "      <td>None</td>\n",
       "      <td>No</td>\n",
       "      <td>No</td>\n",
       "      <td>Texas</td>\n",
       "      <td>3/1/22</td>\n",
       "      <td>Representative</td>\n",
       "      <td>1</td>\n",
       "      <td>2,457</td>\n",
       "      <td>15%</td>\n",
       "      <td>Lost</td>\n",
       "      <td>None</td>\n",
       "      <td>None</td>\n",
       "      <td>None</td>\n",
       "      <td>None</td>\n",
       "      <td>None</td>\n",
       "      <td>None</td>\n",
       "      <td>None</td>\n",
       "      <td>None</td>\n",
       "      <td>None</td>\n",
       "      <td>None</td>\n",
       "      <td>None</td>\n",
       "      <td>None</td>\n",
       "    </tr>\n",
       "    <tr>\n",
       "      <th>4</th>\n",
       "      <td>Robin Fulford</td>\n",
       "      <td>Female</td>\n",
       "      <td>White</td>\n",
       "      <td>None</td>\n",
       "      <td>None</td>\n",
       "      <td>No</td>\n",
       "      <td>No</td>\n",
       "      <td>Texas</td>\n",
       "      <td>3/1/22</td>\n",
       "      <td>Representative</td>\n",
       "      <td>2</td>\n",
       "      <td>17,160</td>\n",
       "      <td>100%</td>\n",
       "      <td>Won</td>\n",
       "      <td>None</td>\n",
       "      <td>None</td>\n",
       "      <td>None</td>\n",
       "      <td>None</td>\n",
       "      <td>None</td>\n",
       "      <td>None</td>\n",
       "      <td>None</td>\n",
       "      <td>None</td>\n",
       "      <td>None</td>\n",
       "      <td>None</td>\n",
       "      <td>None</td>\n",
       "      <td>None</td>\n",
       "    </tr>\n",
       "  </tbody>\n",
       "</table>\n",
       "</div>"
      ],
      "text/plain": [
       "              Candidate  Gender Race 1          Race 2 Race 3 Incumbent  \\\n",
       "0            Gavin Dass    Male  White  Asian (Indian)   None        No   \n",
       "1        Victor D. Dunn    Male  Black            None   None        No   \n",
       "2  Jrmar \"JJ\" Jefferson    Male  Black            None   None        No   \n",
       "3         Stephen Kocen    Male  White            None   None        No   \n",
       "4         Robin Fulford  Female  White            None   None        No   \n",
       "\n",
       "  Incumbent Challenger  State Primary Date          Office District  \\\n",
       "0                   No  Texas       3/1/22  Representative        1   \n",
       "1                   No  Texas       3/1/22  Representative        1   \n",
       "2                   No  Texas       3/1/22  Representative        1   \n",
       "3                   No  Texas       3/1/22  Representative        1   \n",
       "4                   No  Texas       3/1/22  Representative        2   \n",
       "\n",
       "  Primary Votes Primary % Primary Outcome Runoff Votes Runoff %  \\\n",
       "0         1,881       12%            Lost         None     None   \n",
       "1         4,554       28%     Made runoff        1,783      24%   \n",
       "2         7,411       45%     Made runoff        5,607      76%   \n",
       "3         2,457       15%            Lost         None     None   \n",
       "4        17,160      100%             Won         None     None   \n",
       "\n",
       "  Runoff Outcome EMILY's List Justice Dems Indivisible  PCCC Our Revolution  \\\n",
       "0           None         None         None        None  None           None   \n",
       "1           Lost         None         None        None  None           None   \n",
       "2            Won         None         None        None  None           None   \n",
       "3           None         None         None        None  None           None   \n",
       "4           None         None         None        None  None           None   \n",
       "\n",
       "  Sunrise Sanders   AOC Party Committee  \n",
       "0    None    None  None            None  \n",
       "1    None    None  None            None  \n",
       "2    None    None  None            None  \n",
       "3    None    None  None            None  \n",
       "4    None    None  None            None  "
      ]
     },
     "execution_count": 19,
     "metadata": {},
     "output_type": "execute_result"
    }
   ],
   "source": [
    "dem.head()"
   ]
  },
  {
   "cell_type": "code",
   "execution_count": 20,
   "id": "e523f1f3",
   "metadata": {
    "ExecuteTime": {
     "end_time": "2023-04-18T16:05:36.955259Z",
     "start_time": "2023-04-18T16:05:36.948678Z"
    }
   },
   "outputs": [
    {
     "data": {
      "text/plain": [
       "1077"
      ]
     },
     "execution_count": 20,
     "metadata": {},
     "output_type": "execute_result"
    }
   ],
   "source": [
    "len(dem)"
   ]
  },
  {
   "cell_type": "code",
   "execution_count": 21,
   "id": "ac44c9d6",
   "metadata": {
    "ExecuteTime": {
     "end_time": "2023-04-18T16:05:37.708867Z",
     "start_time": "2023-04-18T16:05:37.699349Z"
    }
   },
   "outputs": [],
   "source": [
    "dem.drop_duplicates(inplace=True)"
   ]
  },
  {
   "cell_type": "code",
   "execution_count": 22,
   "id": "c6d2b495",
   "metadata": {
    "ExecuteTime": {
     "end_time": "2023-04-18T16:05:38.388480Z",
     "start_time": "2023-04-18T16:05:38.383437Z"
    }
   },
   "outputs": [
    {
     "data": {
      "text/plain": [
       "1077"
      ]
     },
     "execution_count": 22,
     "metadata": {},
     "output_type": "execute_result"
    }
   ],
   "source": [
    "len(dem) ## Isti broj kao prije primjene funkcije u prethodnoj celiji, znaci nema duplikata"
   ]
  },
  {
   "cell_type": "markdown",
   "id": "e55505c4",
   "metadata": {},
   "source": [
    "**Analiziramo broj NULL vrijednosti u svakoj od kolona**"
   ]
  },
  {
   "cell_type": "code",
   "execution_count": 23,
   "id": "d55ccd04",
   "metadata": {
    "ExecuteTime": {
     "end_time": "2023-04-18T16:05:40.126992Z",
     "start_time": "2023-04-18T16:05:39.826430Z"
    }
   },
   "outputs": [
    {
     "data": {
      "image/png": "[encoded data removed]",
      "text/plain": [
       "<Figure size 1000x500 with 1 Axes>"
      ]
     },
     "metadata": {},
     "output_type": "display_data"
    }
   ],
   "source": [
    "# Procenat NULL vrijednosti u koloni\n",
    "null_percentages = (dem.isnull().sum() / len(dem)) * 100\n",
    "\n",
    "# Na grafiku cemo nacrtati i horizontalnu liniju na y=85%\n",
    "plt.figure(figsize=(10,5))\n",
    "null_percentages.plot(kind='bar')\n",
    "plt.title('Percentage of null values in columns')\n",
    "plt.xlabel('Columns')\n",
    "plt.ylabel('Percentage [%]')\n",
    "plt.axhline(y=85, color='red')\n",
    "plt.show()"
   ]
  },
  {
   "cell_type": "code",
   "execution_count": 24,
   "id": "5fc025bf",
   "metadata": {
    "ExecuteTime": {
     "end_time": "2023-04-18T16:05:41.845618Z",
     "start_time": "2023-04-18T16:05:41.579668Z"
    }
   },
   "outputs": [
    {
     "data": {
      "image/png": "[encoded data removed]",
      "text/plain": [
       "<Figure size 1000x500 with 1 Axes>"
      ]
     },
     "metadata": {},
     "output_type": "display_data"
    }
   ],
   "source": [
    "# Procenat NULL vrijednosti u koloni\n",
    "null_percentages = (rep.isnull().sum() / len(rep)) * 100\n",
    "\n",
    "# Na grafiku cemo nacrtati i horizontalnu liniju na y=85%\n",
    "plt.figure(figsize=(10,5))\n",
    "null_percentages.plot(kind='bar')\n",
    "plt.title('Percentage of null values in columns')\n",
    "plt.xlabel('Columns')\n",
    "plt.ylabel('Percentage [%]')\n",
    "plt.axhline(y=85, color='red')\n",
    "plt.show()"
   ]
  },
  {
   "cell_type": "code",
   "execution_count": 25,
   "id": "5a75a3e3",
   "metadata": {
    "ExecuteTime": {
     "end_time": "2023-04-18T16:05:42.513127Z",
     "start_time": "2023-04-18T16:05:42.506009Z"
    }
   },
   "outputs": [
    {
     "name": "stdout",
     "output_type": "stream",
     "text": [
      "Candidate ima 1074 jedinstvenih vrijednosti\n",
      "Gender ima 3 jedinstvenih vrijednosti\n",
      "Race 1 ima 61 jedinstvenih vrijednosti\n",
      "Race 2 ima 14 jedinstvenih vrijednosti\n",
      "Race 3 ima 2 jedinstvenih vrijednosti\n",
      "Incumbent ima 2 jedinstvenih vrijednosti\n",
      "Incumbent Challenger ima 2 jedinstvenih vrijednosti\n",
      "State ima 49 jedinstvenih vrijednosti\n",
      "Primary Date ima 20 jedinstvenih vrijednosti\n",
      "Office ima 4 jedinstvenih vrijednosti\n",
      "District ima 54 jedinstvenih vrijednosti\n",
      "Primary Votes ima 965 jedinstvenih vrijednosti\n",
      "Primary % ima 101 jedinstvenih vrijednosti\n",
      "Primary Outcome ima 3 jedinstvenih vrijednosti\n",
      "Runoff Votes ima 25 jedinstvenih vrijednosti\n",
      "Runoff % ima 20 jedinstvenih vrijednosti\n",
      "Runoff Outcome ima 3 jedinstvenih vrijednosti\n",
      "EMILY's List ima 5 jedinstvenih vrijednosti\n",
      "Justice Dems ima 3 jedinstvenih vrijednosti\n",
      "Indivisible ima 3 jedinstvenih vrijednosti\n",
      "PCCC ima 3 jedinstvenih vrijednosti\n",
      "Our Revolution ima 3 jedinstvenih vrijednosti\n",
      "Sunrise ima 3 jedinstvenih vrijednosti\n",
      "Sanders ima 4 jedinstvenih vrijednosti\n",
      "AOC ima 3 jedinstvenih vrijednosti\n",
      "Party Committee ima 3 jedinstvenih vrijednosti\n"
     ]
    }
   ],
   "source": [
    "for x in dem.columns:\n",
    "    #print(dem[x])\n",
    "    print(\"%s ima %s jedinstvenih vrijednosti\" %(x, len(dem[x].unique())))"
   ]
  },
  {
   "cell_type": "code",
   "execution_count": 26,
   "id": "c12c8730",
   "metadata": {
    "ExecuteTime": {
     "end_time": "2023-04-18T16:05:43.313136Z",
     "start_time": "2023-04-18T16:05:43.306418Z"
    }
   },
   "outputs": [
    {
     "name": "stdout",
     "output_type": "stream",
     "text": [
      "Candidate ima 1593 jedinstvenih vrijednosti\n",
      "Gender ima 2 jedinstvenih vrijednosti\n",
      "Race 1 ima 52 jedinstvenih vrijednosti\n",
      "Race 2 ima 15 jedinstvenih vrijednosti\n",
      "Race 3 ima 2 jedinstvenih vrijednosti\n",
      "Incumbent ima 2 jedinstvenih vrijednosti\n",
      "Incumbent Challenger ima 2 jedinstvenih vrijednosti\n",
      "State ima 49 jedinstvenih vrijednosti\n",
      "Primary Date ima 20 jedinstvenih vrijednosti\n",
      "Office ima 4 jedinstvenih vrijednosti\n",
      "District ima 54 jedinstvenih vrijednosti\n",
      "Primary Votes ima 1486 jedinstvenih vrijednosti\n",
      "Primary % ima 98 jedinstvenih vrijednosti\n",
      "Primary Outcome ima 3 jedinstvenih vrijednosti\n",
      "Runoff Votes ima 40 jedinstvenih vrijednosti\n",
      "Runoff % ima 29 jedinstvenih vrijednosti\n",
      "Runoff Outcome ima 3 jedinstvenih vrijednosti\n",
      "2020 Election Stance ima 6 jedinstvenih vrijednosti\n",
      "Trump ima 5 jedinstvenih vrijednosti\n",
      "Trump Date ima 92 jedinstvenih vrijednosti\n",
      "Club for Growth ima 3 jedinstvenih vrijednosti\n",
      "Party Committee ima 5 jedinstvenih vrijednosti\n",
      "Renew America ima 3 jedinstvenih vrijednosti\n",
      "E-PAC ima 5 jedinstvenih vrijednosti\n",
      "VIEW PAC ima 5 jedinstvenih vrijednosti\n",
      "Maggie's List ima 5 jedinstvenih vrijednosti\n",
      "Winning for Women ima 5 jedinstvenih vrijednosti\n"
     ]
    }
   ],
   "source": [
    "for x in rep.columns:\n",
    "    #print(dem[x])\n",
    "    print(\"%s ima %s jedinstvenih vrijednosti\" %(x, len(rep[x].unique())))"
   ]
  },
  {
   "cell_type": "markdown",
   "id": "9d69709a",
   "metadata": {},
   "source": [
    "****"
   ]
  },
  {
   "cell_type": "markdown",
   "id": "4ba88819",
   "metadata": {},
   "source": [
    "**Primary Date**\n",
    "jeste datum odrzavanja predizbora u kojima je kandidat ucestvovao"
   ]
  },
  {
   "cell_type": "code",
   "execution_count": 27,
   "id": "0b17429d",
   "metadata": {
    "ExecuteTime": {
     "end_time": "2023-04-18T16:05:44.715247Z",
     "start_time": "2023-04-18T16:05:44.709625Z"
    }
   },
   "outputs": [
    {
     "data": {
      "text/plain": [
       "6/7/22     174\n",
       "5/17/22    141\n",
       "8/23/22    133\n",
       "8/2/22     111\n",
       "6/28/22     86\n",
       "3/1/22      84\n",
       "5/24/22     63\n",
       "5/3/22      53\n",
       "8/9/22      53\n",
       "7/19/22     42\n",
       "6/14/22     41\n",
       "9/13/22     19\n",
       "8/13/22     17\n",
       "8/4/22      16\n",
       "5/10/22     11\n",
       "9/6/22      11\n",
       "6/21/22     10\n",
       "8/16/22     10\n",
       "6/11/22      1\n",
       "5/21/22      1\n",
       "Name: Primary Date, dtype: int64"
      ]
     },
     "execution_count": 27,
     "metadata": {},
     "output_type": "execute_result"
    }
   ],
   "source": [
    "dem['Primary Date'].value_counts(ascending=False)"
   ]
  },
  {
   "cell_type": "code",
   "execution_count": 28,
   "id": "bad49f62",
   "metadata": {
    "ExecuteTime": {
     "end_time": "2023-04-18T16:05:45.178775Z",
     "start_time": "2023-04-18T16:05:45.170112Z"
    }
   },
   "outputs": [],
   "source": [
    "dem['Date_column'] = pd.to_datetime(dem['Primary Date'], format='%m/%d/%y')"
   ]
  },
  {
   "cell_type": "code",
   "execution_count": 29,
   "id": "0e354128",
   "metadata": {
    "ExecuteTime": {
     "end_time": "2023-04-18T16:05:45.844932Z",
     "start_time": "2023-04-18T16:05:45.830311Z"
    }
   },
   "outputs": [],
   "source": [
    "rep['Date_column'] = pd.to_datetime(rep['Primary Date'], format='%m/%d/%y')"
   ]
  },
  {
   "cell_type": "code",
   "execution_count": 30,
   "id": "62cf016d",
   "metadata": {
    "ExecuteTime": {
     "end_time": "2023-04-18T16:05:46.341558Z",
     "start_time": "2023-04-18T16:05:46.329056Z"
    }
   },
   "outputs": [],
   "source": [
    "dem['day_of_week'] = dem['Date_column'].dt.day_name()\n",
    "\n",
    "#Da izracunamo, koliko je dana proteklo od datuma odrzavanja predizbora do danas\n",
    "dem ['now2date'] = (dt.datetime.now() - dem['Date_column']).dt.days\n",
    "\n",
    "#Dobijanje broja mjeseca iz datuma\n",
    "dem['Month'] = dem['Date_column'].dt.month"
   ]
  },
  {
   "cell_type": "code",
   "execution_count": 31,
   "id": "89e7657f",
   "metadata": {
    "ExecuteTime": {
     "end_time": "2023-04-18T16:05:47.098835Z",
     "start_time": "2023-04-18T16:05:47.090491Z"
    }
   },
   "outputs": [],
   "source": [
    "rep['day_of_week'] = rep['Date_column'].dt.day_name()\n",
    "\n",
    "#Da izracunamo, koliko je dana proteklo od datuma odrzavanja predizbora do danas\n",
    "rep ['now2date'] = (dt.datetime.now() - rep['Date_column']).dt.days\n",
    "\n",
    "#Dobijanje broja mjeseca iz datuma\n",
    "rep['Month'] = rep['Date_column'].dt.month"
   ]
  },
  {
   "cell_type": "code",
   "execution_count": 32,
   "id": "c3caf39c",
   "metadata": {
    "ExecuteTime": {
     "end_time": "2023-04-18T16:05:53.890202Z",
     "start_time": "2023-04-18T16:05:53.869671Z"
    }
   },
   "outputs": [
    {
     "data": {
      "text/html": [
       "<div>\n",
       "<style scoped>\n",
       "    .dataframe tbody tr th:only-of-type {\n",
       "        vertical-align: middle;\n",
       "    }\n",
       "\n",
       "    .dataframe tbody tr th {\n",
       "        vertical-align: top;\n",
       "    }\n",
       "\n",
       "    .dataframe thead th {\n",
       "        text-align: right;\n",
       "    }\n",
       "</style>\n",
       "<table border=\"1\" class=\"dataframe\">\n",
       "  <thead>\n",
       "    <tr style=\"text-align: right;\">\n",
       "      <th></th>\n",
       "      <th>Primary Date</th>\n",
       "      <th>Date_column</th>\n",
       "      <th>day_of_week</th>\n",
       "      <th>now2date</th>\n",
       "      <th>Month</th>\n",
       "    </tr>\n",
       "  </thead>\n",
       "  <tbody>\n",
       "    <tr>\n",
       "      <th>0</th>\n",
       "      <td>3/1/22</td>\n",
       "      <td>2022-03-01</td>\n",
       "      <td>Tuesday</td>\n",
       "      <td>413</td>\n",
       "      <td>3</td>\n",
       "    </tr>\n",
       "    <tr>\n",
       "      <th>1</th>\n",
       "      <td>3/1/22</td>\n",
       "      <td>2022-03-01</td>\n",
       "      <td>Tuesday</td>\n",
       "      <td>413</td>\n",
       "      <td>3</td>\n",
       "    </tr>\n",
       "    <tr>\n",
       "      <th>2</th>\n",
       "      <td>3/1/22</td>\n",
       "      <td>2022-03-01</td>\n",
       "      <td>Tuesday</td>\n",
       "      <td>413</td>\n",
       "      <td>3</td>\n",
       "    </tr>\n",
       "    <tr>\n",
       "      <th>3</th>\n",
       "      <td>3/1/22</td>\n",
       "      <td>2022-03-01</td>\n",
       "      <td>Tuesday</td>\n",
       "      <td>413</td>\n",
       "      <td>3</td>\n",
       "    </tr>\n",
       "    <tr>\n",
       "      <th>4</th>\n",
       "      <td>3/1/22</td>\n",
       "      <td>2022-03-01</td>\n",
       "      <td>Tuesday</td>\n",
       "      <td>413</td>\n",
       "      <td>3</td>\n",
       "    </tr>\n",
       "    <tr>\n",
       "      <th>...</th>\n",
       "      <td>...</td>\n",
       "      <td>...</td>\n",
       "      <td>...</td>\n",
       "      <td>...</td>\n",
       "      <td>...</td>\n",
       "    </tr>\n",
       "    <tr>\n",
       "      <th>1072</th>\n",
       "      <td>9/13/22</td>\n",
       "      <td>2022-09-13</td>\n",
       "      <td>Tuesday</td>\n",
       "      <td>217</td>\n",
       "      <td>9</td>\n",
       "    </tr>\n",
       "    <tr>\n",
       "      <th>1073</th>\n",
       "      <td>9/13/22</td>\n",
       "      <td>2022-09-13</td>\n",
       "      <td>Tuesday</td>\n",
       "      <td>217</td>\n",
       "      <td>9</td>\n",
       "    </tr>\n",
       "    <tr>\n",
       "      <th>1074</th>\n",
       "      <td>9/13/22</td>\n",
       "      <td>2022-09-13</td>\n",
       "      <td>Tuesday</td>\n",
       "      <td>217</td>\n",
       "      <td>9</td>\n",
       "    </tr>\n",
       "    <tr>\n",
       "      <th>1075</th>\n",
       "      <td>9/13/22</td>\n",
       "      <td>2022-09-13</td>\n",
       "      <td>Tuesday</td>\n",
       "      <td>217</td>\n",
       "      <td>9</td>\n",
       "    </tr>\n",
       "    <tr>\n",
       "      <th>1076</th>\n",
       "      <td>9/13/22</td>\n",
       "      <td>2022-09-13</td>\n",
       "      <td>Tuesday</td>\n",
       "      <td>217</td>\n",
       "      <td>9</td>\n",
       "    </tr>\n",
       "  </tbody>\n",
       "</table>\n",
       "<p>1077 rows × 5 columns</p>\n",
       "</div>"
      ],
      "text/plain": [
       "     Primary Date Date_column day_of_week  now2date  Month\n",
       "0          3/1/22  2022-03-01     Tuesday       413      3\n",
       "1          3/1/22  2022-03-01     Tuesday       413      3\n",
       "2          3/1/22  2022-03-01     Tuesday       413      3\n",
       "3          3/1/22  2022-03-01     Tuesday       413      3\n",
       "4          3/1/22  2022-03-01     Tuesday       413      3\n",
       "...           ...         ...         ...       ...    ...\n",
       "1072      9/13/22  2022-09-13     Tuesday       217      9\n",
       "1073      9/13/22  2022-09-13     Tuesday       217      9\n",
       "1074      9/13/22  2022-09-13     Tuesday       217      9\n",
       "1075      9/13/22  2022-09-13     Tuesday       217      9\n",
       "1076      9/13/22  2022-09-13     Tuesday       217      9\n",
       "\n",
       "[1077 rows x 5 columns]"
      ]
     },
     "execution_count": 32,
     "metadata": {},
     "output_type": "execute_result"
    }
   ],
   "source": [
    "dem[['Primary Date', 'Date_column', 'day_of_week', 'now2date', 'Month']]"
   ]
  },
  {
   "cell_type": "code",
   "execution_count": 33,
   "id": "52f576c2",
   "metadata": {
    "ExecuteTime": {
     "end_time": "2023-04-18T16:05:54.341243Z",
     "start_time": "2023-04-18T16:05:54.326199Z"
    }
   },
   "outputs": [
    {
     "data": {
      "text/html": [
       "<div>\n",
       "<style scoped>\n",
       "    .dataframe tbody tr th:only-of-type {\n",
       "        vertical-align: middle;\n",
       "    }\n",
       "\n",
       "    .dataframe tbody tr th {\n",
       "        vertical-align: top;\n",
       "    }\n",
       "\n",
       "    .dataframe thead th {\n",
       "        text-align: right;\n",
       "    }\n",
       "</style>\n",
       "<table border=\"1\" class=\"dataframe\">\n",
       "  <thead>\n",
       "    <tr style=\"text-align: right;\">\n",
       "      <th></th>\n",
       "      <th>Primary Date</th>\n",
       "      <th>Date_column</th>\n",
       "      <th>day_of_week</th>\n",
       "      <th>now2date</th>\n",
       "      <th>Month</th>\n",
       "    </tr>\n",
       "  </thead>\n",
       "  <tbody>\n",
       "    <tr>\n",
       "      <th>0</th>\n",
       "      <td>3/1/22</td>\n",
       "      <td>2022-03-01</td>\n",
       "      <td>Tuesday</td>\n",
       "      <td>413</td>\n",
       "      <td>3</td>\n",
       "    </tr>\n",
       "    <tr>\n",
       "      <th>1</th>\n",
       "      <td>3/1/22</td>\n",
       "      <td>2022-03-01</td>\n",
       "      <td>Tuesday</td>\n",
       "      <td>413</td>\n",
       "      <td>3</td>\n",
       "    </tr>\n",
       "    <tr>\n",
       "      <th>2</th>\n",
       "      <td>3/1/22</td>\n",
       "      <td>2022-03-01</td>\n",
       "      <td>Tuesday</td>\n",
       "      <td>413</td>\n",
       "      <td>3</td>\n",
       "    </tr>\n",
       "    <tr>\n",
       "      <th>3</th>\n",
       "      <td>3/1/22</td>\n",
       "      <td>2022-03-01</td>\n",
       "      <td>Tuesday</td>\n",
       "      <td>413</td>\n",
       "      <td>3</td>\n",
       "    </tr>\n",
       "    <tr>\n",
       "      <th>4</th>\n",
       "      <td>3/1/22</td>\n",
       "      <td>2022-03-01</td>\n",
       "      <td>Tuesday</td>\n",
       "      <td>413</td>\n",
       "      <td>3</td>\n",
       "    </tr>\n",
       "    <tr>\n",
       "      <th>...</th>\n",
       "      <td>...</td>\n",
       "      <td>...</td>\n",
       "      <td>...</td>\n",
       "      <td>...</td>\n",
       "      <td>...</td>\n",
       "    </tr>\n",
       "    <tr>\n",
       "      <th>1594</th>\n",
       "      <td>9/13/22</td>\n",
       "      <td>2022-09-13</td>\n",
       "      <td>Tuesday</td>\n",
       "      <td>217</td>\n",
       "      <td>9</td>\n",
       "    </tr>\n",
       "    <tr>\n",
       "      <th>1595</th>\n",
       "      <td>9/13/22</td>\n",
       "      <td>2022-09-13</td>\n",
       "      <td>Tuesday</td>\n",
       "      <td>217</td>\n",
       "      <td>9</td>\n",
       "    </tr>\n",
       "    <tr>\n",
       "      <th>1596</th>\n",
       "      <td>9/13/22</td>\n",
       "      <td>2022-09-13</td>\n",
       "      <td>Tuesday</td>\n",
       "      <td>217</td>\n",
       "      <td>9</td>\n",
       "    </tr>\n",
       "    <tr>\n",
       "      <th>1597</th>\n",
       "      <td>9/13/22</td>\n",
       "      <td>2022-09-13</td>\n",
       "      <td>Tuesday</td>\n",
       "      <td>217</td>\n",
       "      <td>9</td>\n",
       "    </tr>\n",
       "    <tr>\n",
       "      <th>1598</th>\n",
       "      <td>9/13/22</td>\n",
       "      <td>2022-09-13</td>\n",
       "      <td>Tuesday</td>\n",
       "      <td>217</td>\n",
       "      <td>9</td>\n",
       "    </tr>\n",
       "  </tbody>\n",
       "</table>\n",
       "<p>1599 rows × 5 columns</p>\n",
       "</div>"
      ],
      "text/plain": [
       "     Primary Date Date_column day_of_week  now2date  Month\n",
       "0          3/1/22  2022-03-01     Tuesday       413      3\n",
       "1          3/1/22  2022-03-01     Tuesday       413      3\n",
       "2          3/1/22  2022-03-01     Tuesday       413      3\n",
       "3          3/1/22  2022-03-01     Tuesday       413      3\n",
       "4          3/1/22  2022-03-01     Tuesday       413      3\n",
       "...           ...         ...         ...       ...    ...\n",
       "1594      9/13/22  2022-09-13     Tuesday       217      9\n",
       "1595      9/13/22  2022-09-13     Tuesday       217      9\n",
       "1596      9/13/22  2022-09-13     Tuesday       217      9\n",
       "1597      9/13/22  2022-09-13     Tuesday       217      9\n",
       "1598      9/13/22  2022-09-13     Tuesday       217      9\n",
       "\n",
       "[1599 rows x 5 columns]"
      ]
     },
     "execution_count": 33,
     "metadata": {},
     "output_type": "execute_result"
    }
   ],
   "source": [
    "rep[['Primary Date', 'Date_column', 'day_of_week', 'now2date', 'Month']]"
   ]
  },
  {
   "cell_type": "markdown",
   "id": "9945d2b0",
   "metadata": {},
   "source": [
    "****"
   ]
  },
  {
   "cell_type": "markdown",
   "id": "da924e11",
   "metadata": {},
   "source": [
    "**Adding column with country code**"
   ]
  },
  {
   "cell_type": "code",
   "execution_count": 34,
   "id": "78fdc28c",
   "metadata": {
    "ExecuteTime": {
     "end_time": "2023-04-18T16:05:55.957479Z",
     "start_time": "2023-04-18T16:05:55.952908Z"
    }
   },
   "outputs": [
    {
     "data": {
      "text/plain": [
       "array(['Texas', 'Indiana', 'Ohio', 'West Virginia', 'Nebraska',\n",
       "       'Kentucky', 'Oregon', 'Idaho', 'North Carolina', 'Pennsylvania',\n",
       "       'Virginia', 'Alabama', 'Arkansas', 'Georgia', 'New Mexico',\n",
       "       'Mississippi', 'Montana', 'Iowa', 'South Dakota', 'New Jersey',\n",
       "       'California', 'Maine', 'Nevada', 'South Carolina', 'North Dakota',\n",
       "       'Colorado', 'Illinois', 'New York', 'Oklahoma', 'Utah', 'Maryland',\n",
       "       'Arizona', 'Kansas', 'Michigan', 'Missouri', 'Washington',\n",
       "       'Tennessee', 'Connecticut', 'Minnesota', 'Vermont', 'Wisconsin',\n",
       "       'Hawaii', 'Alaska', 'Wyoming', 'Florida', 'Massachusetts',\n",
       "       'Delaware', 'New Hampshire', 'Rhode Island'], dtype=object)"
      ]
     },
     "execution_count": 34,
     "metadata": {},
     "output_type": "execute_result"
    }
   ],
   "source": [
    "dem['State'].unique()"
   ]
  },
  {
   "cell_type": "code",
   "execution_count": 35,
   "id": "a55da8b8",
   "metadata": {
    "ExecuteTime": {
     "end_time": "2023-04-18T16:06:01.785429Z",
     "start_time": "2023-04-18T16:05:56.703435Z"
    }
   },
   "outputs": [],
   "source": [
    "def get_code(State):\n",
    "    \"\"\" From country name get country code\"\"\"\n",
    "    for country in pycountry.subdivisions:\n",
    "        if country.name == State:\n",
    "            code = country.code.split('-')[1]\n",
    "        \n",
    "    return code\n",
    "\n",
    "dem['country_code'] = dem['State'].apply(get_code)\n",
    "rep['country_code'] = rep['State'].apply(get_code)"
   ]
  },
  {
   "cell_type": "code",
   "execution_count": 36,
   "id": "b55292e2",
   "metadata": {
    "ExecuteTime": {
     "end_time": "2023-04-18T16:06:01.791042Z",
     "start_time": "2023-04-18T16:06:01.786930Z"
    }
   },
   "outputs": [
    {
     "data": {
      "text/plain": [
       "array(['TX', 'IN', 'OH', 'WV', 'NE', 'KY', 'OR', 'ID', 'NC', 'PA', 'VA',\n",
       "       'AL', 'AR', 'GA', 'NM', 'MS', 'MT', 'IA', 'SD', 'NJ', 'CA', 'ME',\n",
       "       'NV', 'SC', 'ND', 'CO', 'IL', 'NY', 'OK', 'UT', 'MD', 'AZ', 'KS',\n",
       "       'MI', 'MO', 'WA', 'TN', 'CT', 'MN', 'VT', 'WI', 'HI', 'AK', 'WY',\n",
       "       'FD', 'MA', 'DE', 'NH', 'RI'], dtype=object)"
      ]
     },
     "execution_count": 36,
     "metadata": {},
     "output_type": "execute_result"
    }
   ],
   "source": [
    "dem['country_code'].unique()"
   ]
  },
  {
   "cell_type": "code",
   "execution_count": 37,
   "id": "eff36c2f",
   "metadata": {
    "ExecuteTime": {
     "end_time": "2023-04-18T16:06:03.206174Z",
     "start_time": "2023-04-18T16:06:03.201520Z"
    }
   },
   "outputs": [
    {
     "data": {
      "text/plain": [
       "array(['TX', 'IN', 'OH', 'VA', 'WV', 'NE', 'KY', 'OR', 'ID', 'NC', 'PA',\n",
       "       'AL', 'AR', 'GA', 'NM', 'MS', 'MT', 'IA', 'SD', 'NJ', 'CA', 'ME',\n",
       "       'NV', 'SC', 'ND', 'CO', 'IL', 'NY', 'OK', 'UT', 'MD', 'AZ', 'KS',\n",
       "       'MI', 'MO', 'WA', 'TN', 'CT', 'MN', 'VT', 'WI', 'HI', 'AK', 'WY',\n",
       "       'FD', 'MA', 'DE', 'NH', 'RI'], dtype=object)"
      ]
     },
     "execution_count": 37,
     "metadata": {},
     "output_type": "execute_result"
    }
   ],
   "source": [
    "rep['country_code'].unique()"
   ]
  },
  {
   "cell_type": "code",
   "execution_count": 38,
   "id": "cc20c794",
   "metadata": {
    "ExecuteTime": {
     "end_time": "2023-04-18T16:06:03.741088Z",
     "start_time": "2023-04-18T16:06:03.734808Z"
    }
   },
   "outputs": [
    {
     "data": {
      "text/plain": [
       "CA    126\n",
       "TX     84\n",
       "NY     71\n",
       "FD     66\n",
       "NC     51\n",
       "Name: country_code, dtype: int64"
      ]
     },
     "execution_count": 38,
     "metadata": {},
     "output_type": "execute_result"
    }
   ],
   "source": [
    "dem['country_code'].value_counts()[:5]"
   ]
  },
  {
   "cell_type": "code",
   "execution_count": 39,
   "id": "e95a924b",
   "metadata": {
    "ExecuteTime": {
     "end_time": "2023-04-18T16:06:04.141231Z",
     "start_time": "2023-04-18T16:06:04.135907Z"
    }
   },
   "outputs": [
    {
     "data": {
      "text/plain": [
       "CA    152\n",
       "TX    151\n",
       "FD     94\n",
       "NC     74\n",
       "GA     62\n",
       "Name: country_code, dtype: int64"
      ]
     },
     "execution_count": 39,
     "metadata": {},
     "output_type": "execute_result"
    }
   ],
   "source": [
    "rep['country_code'].value_counts()[:5]"
   ]
  },
  {
   "cell_type": "markdown",
   "id": "f30b4dc9",
   "metadata": {},
   "source": [
    "****"
   ]
  },
  {
   "cell_type": "code",
   "execution_count": 40,
   "id": "6d1f7e5e",
   "metadata": {
    "ExecuteTime": {
     "end_time": "2023-04-18T16:06:05.135779Z",
     "start_time": "2023-04-18T16:06:05.125426Z"
    }
   },
   "outputs": [
    {
     "data": {
      "text/plain": [
       "Index(['Candidate', 'Gender', 'Race 1', 'Race 2', 'Race 3', 'Incumbent',\n",
       "       'Incumbent Challenger', 'State', 'Primary Date', 'Office', 'District',\n",
       "       'Primary Votes', 'Primary %', 'Primary Outcome', 'Runoff Votes',\n",
       "       'Runoff %', 'Runoff Outcome', 'EMILY's List', 'Justice Dems',\n",
       "       'Indivisible', 'PCCC', 'Our Revolution', 'Sunrise', 'Sanders', 'AOC',\n",
       "       'Party Committee', 'Date_column', 'day_of_week', 'now2date', 'Month',\n",
       "       'country_code'],\n",
       "      dtype='object')"
      ]
     },
     "execution_count": 40,
     "metadata": {},
     "output_type": "execute_result"
    }
   ],
   "source": [
    "dem.columns"
   ]
  },
  {
   "cell_type": "markdown",
   "id": "80a8302f",
   "metadata": {},
   "source": [
    "****"
   ]
  },
  {
   "cell_type": "code",
   "execution_count": 41,
   "id": "1fd59e40",
   "metadata": {
    "ExecuteTime": {
     "end_time": "2023-04-18T16:06:06.044015Z",
     "start_time": "2023-04-18T16:06:06.039033Z"
    }
   },
   "outputs": [
    {
     "data": {
      "text/plain": [
       "Male         697\n",
       "Female       379\n",
       "Nonbinary      1\n",
       "Name: Gender, dtype: int64"
      ]
     },
     "execution_count": 41,
     "metadata": {},
     "output_type": "execute_result"
    }
   ],
   "source": [
    "dem['Gender'].value_counts()"
   ]
  },
  {
   "cell_type": "code",
   "execution_count": 42,
   "id": "8a6232e0",
   "metadata": {
    "ExecuteTime": {
     "end_time": "2023-04-18T16:06:06.320017Z",
     "start_time": "2023-04-18T16:06:06.307735Z"
    }
   },
   "outputs": [
    {
     "data": {
      "text/plain": [
       "Male      1261\n",
       "Female     338\n",
       "Name: Gender, dtype: int64"
      ]
     },
     "execution_count": 42,
     "metadata": {},
     "output_type": "execute_result"
    }
   ],
   "source": [
    "rep['Gender'].value_counts()"
   ]
  },
  {
   "cell_type": "markdown",
   "id": "dd085510",
   "metadata": {},
   "source": [
    "****"
   ]
  },
  {
   "cell_type": "code",
   "execution_count": 43,
   "id": "c730c287",
   "metadata": {
    "ExecuteTime": {
     "end_time": "2023-04-18T16:06:07.095617Z",
     "start_time": "2023-04-18T16:06:07.088417Z"
    }
   },
   "outputs": [
    {
     "data": {
      "text/plain": [
       "No     862\n",
       "Yes    215\n",
       "Name: Incumbent, dtype: int64"
      ]
     },
     "execution_count": 43,
     "metadata": {},
     "output_type": "execute_result"
    }
   ],
   "source": [
    "dem['Incumbent'].value_counts()"
   ]
  },
  {
   "cell_type": "code",
   "execution_count": 44,
   "id": "dbf98b1f",
   "metadata": {
    "ExecuteTime": {
     "end_time": "2023-04-18T16:06:07.437699Z",
     "start_time": "2023-04-18T16:06:07.424338Z"
    }
   },
   "outputs": [
    {
     "data": {
      "text/plain": [
       "No     1383\n",
       "Yes     216\n",
       "Name: Incumbent, dtype: int64"
      ]
     },
     "execution_count": 44,
     "metadata": {},
     "output_type": "execute_result"
    }
   ],
   "source": [
    "rep['Incumbent'].value_counts()"
   ]
  },
  {
   "cell_type": "markdown",
   "id": "a1463aa7",
   "metadata": {},
   "source": [
    "****"
   ]
  },
  {
   "cell_type": "code",
   "execution_count": 45,
   "id": "662b7e7b",
   "metadata": {
    "ExecuteTime": {
     "end_time": "2023-04-18T16:06:08.334491Z",
     "start_time": "2023-04-18T16:06:08.329183Z"
    }
   },
   "outputs": [
    {
     "data": {
      "text/plain": [
       "No     882\n",
       "Yes    195\n",
       "Name: Incumbent Challenger, dtype: int64"
      ]
     },
     "execution_count": 45,
     "metadata": {},
     "output_type": "execute_result"
    }
   ],
   "source": [
    "dem['Incumbent Challenger'].value_counts()"
   ]
  },
  {
   "cell_type": "code",
   "execution_count": 46,
   "id": "7a232a86",
   "metadata": {
    "ExecuteTime": {
     "end_time": "2023-04-18T16:06:08.681301Z",
     "start_time": "2023-04-18T16:06:08.667992Z"
    }
   },
   "outputs": [
    {
     "data": {
      "text/plain": [
       "No     1268\n",
       "Yes     331\n",
       "Name: Incumbent Challenger, dtype: int64"
      ]
     },
     "execution_count": 46,
     "metadata": {},
     "output_type": "execute_result"
    }
   ],
   "source": [
    "rep['Incumbent Challenger'].value_counts()"
   ]
  },
  {
   "cell_type": "markdown",
   "id": "6824c19a",
   "metadata": {},
   "source": [
    "****"
   ]
  },
  {
   "cell_type": "code",
   "execution_count": 47,
   "id": "de7a0f7a",
   "metadata": {
    "ExecuteTime": {
     "end_time": "2023-04-18T16:06:09.410592Z",
     "start_time": "2023-04-18T16:06:09.398903Z"
    }
   },
   "outputs": [
    {
     "data": {
      "text/plain": [
       "array(['White', 'Black', 'Asian (Indian)', 'Latino', 'Latino (Mexican)',\n",
       "       'Latino (Puerto Rican)', 'Unknown', 'Black (Eritrean)',\n",
       "       'Asian (Bangladeshi)', 'White ', 'Latino (Peruvian)',\n",
       "       'Middle Eastern (Saudi)', 'Latino (Ecuadorian)',\n",
       "       'Black (Nigerian)', 'Native American (Saponi)',\n",
       "       'White (Azerbaijani)', 'Middle Eastern (Palestinian)',\n",
       "       'Latino (Venezuelan)', 'Native American (Comanche)', 'Asian',\n",
       "       'Native American', 'Asian (Korean)', 'White (Polish)',\n",
       "       'Latino (Cuban)', 'Latino (Colombian)', 'Asian (Japanese)',\n",
       "       'Latino (Salvadoran)', 'Asian (Pakistani)',\n",
       "       'Middle Eastern (Armenian)', 'Asian (Chinese)',\n",
       "       'Middle Eastern (Iranian)', 'Latino (Guatemalan)',\n",
       "       'Asian (Taiwanese)', 'Latino (Puerto Rican / Ecuadorian)',\n",
       "       'Asian (Filipino)', 'Native American (Lakota)', 'Asian (Thai)',\n",
       "       'Native American (Cherokee)', 'Native American (Creek / Yuchi)',\n",
       "       'White (Albanian)', 'Latino (Dominican)', 'White (Belgian)',\n",
       "       'Native American (Ho-Chunk)', 'Latino (Chilean)',\n",
       "       'Black (Ethiopian)', 'Black (Somali)', 'Black (Jamaican)',\n",
       "       'Black (Liberian)', 'Asian (Laotian)',\n",
       "       'Pacific Islander (Native Hawaiian)', 'Native American (Yupik)',\n",
       "       'Middle Eastern (Iraqi)', 'Native American (Arapaho)',\n",
       "       'Black (Haitian)', 'Asian ', 'Middle Eastern', 'Latino ',\n",
       "       'White (Kosovar)', 'White (Russian)', 'Black (Sudanese)',\n",
       "       'Black (Gambian)'], dtype=object)"
      ]
     },
     "execution_count": 47,
     "metadata": {},
     "output_type": "execute_result"
    }
   ],
   "source": [
    "dem['Race 1'].unique()"
   ]
  },
  {
   "cell_type": "code",
   "execution_count": 48,
   "id": "7330a2f2",
   "metadata": {
    "ExecuteTime": {
     "end_time": "2023-04-18T16:06:10.051030Z",
     "start_time": "2023-04-18T16:06:10.043610Z"
    }
   },
   "outputs": [],
   "source": [
    "def race(race1):\n",
    "    \"\"\"Getting a broader racial affiliation\"\"\"\n",
    "    \n",
    "    try:\n",
    "        r = race1.split('(')[0].rstrip()\n",
    "    except:\n",
    "        r = race1\n",
    "    return r\n",
    "    \n",
    "dem['Race'] = dem['Race 1'].apply(race)\n",
    "rep['Race'] = rep['Race 1'].apply(race)"
   ]
  },
  {
   "cell_type": "code",
   "execution_count": 49,
   "id": "61f58423",
   "metadata": {
    "ExecuteTime": {
     "end_time": "2023-04-18T16:06:10.585168Z",
     "start_time": "2023-04-18T16:06:10.574234Z"
    }
   },
   "outputs": [
    {
     "data": {
      "text/plain": [
       "array(['White', 'Black', 'Asian', 'Latino', 'Unknown', 'Middle Eastern',\n",
       "       'Native American', 'Pacific Islander'], dtype=object)"
      ]
     },
     "execution_count": 49,
     "metadata": {},
     "output_type": "execute_result"
    }
   ],
   "source": [
    "dem['Race'].unique()"
   ]
  },
  {
   "cell_type": "code",
   "execution_count": 50,
   "id": "82b3cda0",
   "metadata": {
    "ExecuteTime": {
     "end_time": "2023-04-18T16:06:11.038032Z",
     "start_time": "2023-04-18T16:06:11.031692Z"
    }
   },
   "outputs": [
    {
     "data": {
      "text/plain": [
       "array(['Asian', 'White', 'Black', 'Unknown', 'Latino', 'Middle Eastern',\n",
       "       'Native American', 'Pacific Islander'], dtype=object)"
      ]
     },
     "execution_count": 50,
     "metadata": {},
     "output_type": "execute_result"
    }
   ],
   "source": [
    "rep['Race'].unique()"
   ]
  },
  {
   "cell_type": "code",
   "execution_count": 51,
   "id": "f42bc31d",
   "metadata": {
    "ExecuteTime": {
     "end_time": "2023-04-18T16:06:11.509205Z",
     "start_time": "2023-04-18T16:06:11.503191Z"
    }
   },
   "outputs": [
    {
     "data": {
      "text/plain": [
       "White               576\n",
       "Black               298\n",
       "Latino              109\n",
       "Asian                56\n",
       "Unknown              17\n",
       "Middle Eastern       11\n",
       "Native American       9\n",
       "Pacific Islander      1\n",
       "Name: Race, dtype: int64"
      ]
     },
     "execution_count": 51,
     "metadata": {},
     "output_type": "execute_result"
    }
   ],
   "source": [
    "dem['Race'].value_counts(ascending=False)"
   ]
  },
  {
   "cell_type": "code",
   "execution_count": 52,
   "id": "c1cab269",
   "metadata": {
    "ExecuteTime": {
     "end_time": "2023-04-18T16:06:12.064171Z",
     "start_time": "2023-04-18T16:06:12.051143Z"
    }
   },
   "outputs": [
    {
     "data": {
      "text/plain": [
       "White               1258\n",
       "Black                122\n",
       "Latino                97\n",
       "Asian                 50\n",
       "Unknown               49\n",
       "Middle Eastern        14\n",
       "Pacific Islander       5\n",
       "Native American        4\n",
       "Name: Race, dtype: int64"
      ]
     },
     "execution_count": 52,
     "metadata": {},
     "output_type": "execute_result"
    }
   ],
   "source": [
    "rep['Race'].value_counts(ascending=False)"
   ]
  },
  {
   "cell_type": "markdown",
   "id": "f99ccd2c",
   "metadata": {},
   "source": [
    "****"
   ]
  },
  {
   "cell_type": "code",
   "execution_count": 53,
   "id": "df501a77",
   "metadata": {
    "ExecuteTime": {
     "end_time": "2023-04-18T16:06:12.948423Z",
     "start_time": "2023-04-18T16:06:12.943102Z"
    }
   },
   "outputs": [
    {
     "data": {
      "text/plain": [
       "Representative              852\n",
       "Senator                     114\n",
       "Governor                    107\n",
       "Senator (unexpired term)      4\n",
       "Name: Office, dtype: int64"
      ]
     },
     "execution_count": 53,
     "metadata": {},
     "output_type": "execute_result"
    }
   ],
   "source": [
    "dem['Office'].value_counts(ascending=False)"
   ]
  },
  {
   "cell_type": "markdown",
   "id": "95ca103e",
   "metadata": {},
   "source": [
    "****"
   ]
  },
  {
   "cell_type": "code",
   "execution_count": 54,
   "id": "f06594a7",
   "metadata": {
    "ExecuteTime": {
     "end_time": "2023-04-18T16:06:13.638318Z",
     "start_time": "2023-04-18T16:06:13.631513Z"
    }
   },
   "outputs": [
    {
     "data": {
      "text/plain": [
       "1     86\n",
       "2     77\n",
       "4     67\n",
       "3     66\n",
       "10    50\n",
       "Name: District, dtype: int64"
      ]
     },
     "execution_count": 54,
     "metadata": {},
     "output_type": "execute_result"
    }
   ],
   "source": [
    "dem['District'].value_counts(ascending=False)[:5]"
   ]
  },
  {
   "cell_type": "code",
   "execution_count": 55,
   "id": "0ccb198c",
   "metadata": {
    "ExecuteTime": {
     "end_time": "2023-04-18T16:06:13.940340Z",
     "start_time": "2023-04-18T16:06:13.927892Z"
    }
   },
   "outputs": [
    {
     "data": {
      "text/plain": [
       "2    134\n",
       "1    115\n",
       "6     87\n",
       "4     85\n",
       "3     84\n",
       "Name: District, dtype: int64"
      ]
     },
     "execution_count": 55,
     "metadata": {},
     "output_type": "execute_result"
    }
   ],
   "source": [
    "rep['District'].value_counts(ascending=False)[:5]"
   ]
  },
  {
   "cell_type": "markdown",
   "id": "d80f6a84",
   "metadata": {},
   "source": [
    "****"
   ]
  },
  {
   "cell_type": "code",
   "execution_count": 56,
   "id": "bcd08b9b",
   "metadata": {
    "ExecuteTime": {
     "end_time": "2023-04-18T16:06:14.641890Z",
     "start_time": "2023-04-18T16:06:14.636454Z"
    }
   },
   "outputs": [
    {
     "data": {
      "text/plain": [
       "1077"
      ]
     },
     "execution_count": 56,
     "metadata": {},
     "output_type": "execute_result"
    }
   ],
   "source": [
    "len(dem['Runoff %'].notnull())"
   ]
  },
  {
   "cell_type": "code",
   "execution_count": 57,
   "id": "6d793d07",
   "metadata": {
    "ExecuteTime": {
     "end_time": "2023-04-18T16:06:14.979671Z",
     "start_time": "2023-04-18T16:06:14.972522Z"
    }
   },
   "outputs": [
    {
     "data": {
      "text/plain": [
       "24"
      ]
     },
     "execution_count": 57,
     "metadata": {},
     "output_type": "execute_result"
    }
   ],
   "source": [
    "len(dem['Runoff %'][dem['Runoff %'].notnull()])"
   ]
  },
  {
   "cell_type": "code",
   "execution_count": 58,
   "id": "9a75881f",
   "metadata": {
    "ExecuteTime": {
     "end_time": "2023-04-18T16:06:15.325492Z",
     "start_time": "2023-04-18T16:06:15.317733Z"
    }
   },
   "outputs": [
    {
     "data": {
      "text/plain": [
       "24"
      ]
     },
     "execution_count": 58,
     "metadata": {},
     "output_type": "execute_result"
    }
   ],
   "source": [
    "dem['Runoff %'].count() #output je broj non-nan vrijednoti u koloni"
   ]
  },
  {
   "cell_type": "code",
   "execution_count": 59,
   "id": "da92f1d0",
   "metadata": {
    "ExecuteTime": {
     "end_time": "2023-04-18T16:06:15.970540Z",
     "start_time": "2023-04-18T16:06:15.956831Z"
    }
   },
   "outputs": [
    {
     "data": {
      "text/plain": [
       "39"
      ]
     },
     "execution_count": 59,
     "metadata": {},
     "output_type": "execute_result"
    }
   ],
   "source": [
    "rep['Runoff %'].count() #output je broj non-nan vrijednoti u koloni"
   ]
  },
  {
   "cell_type": "code",
   "execution_count": 60,
   "id": "2821eeb7",
   "metadata": {
    "ExecuteTime": {
     "end_time": "2023-04-18T16:06:16.374785Z",
     "start_time": "2023-04-18T16:06:16.361298Z"
    }
   },
   "outputs": [
    {
     "data": {
      "text/plain": [
       "Lost    20\n",
       "Won     19\n",
       "Name: Runoff Outcome, dtype: int64"
      ]
     },
     "execution_count": 60,
     "metadata": {},
     "output_type": "execute_result"
    }
   ],
   "source": [
    "rep['Runoff Outcome'].value_counts()"
   ]
  },
  {
   "cell_type": "code",
   "execution_count": 61,
   "id": "3e31a7cb",
   "metadata": {
    "ExecuteTime": {
     "end_time": "2023-04-18T16:06:17.206158Z",
     "start_time": "2023-04-18T16:06:17.201002Z"
    }
   },
   "outputs": [
    {
     "data": {
      "text/plain": [
       "Lost    12\n",
       "Won     12\n",
       "Name: Runoff Outcome, dtype: int64"
      ]
     },
     "execution_count": 61,
     "metadata": {},
     "output_type": "execute_result"
    }
   ],
   "source": [
    "dem['Runoff Outcome'].value_counts()"
   ]
  },
  {
   "cell_type": "code",
   "execution_count": 62,
   "id": "bfa82a11",
   "metadata": {
    "ExecuteTime": {
     "end_time": "2023-04-18T16:06:17.558249Z",
     "start_time": "2023-04-18T16:06:17.539101Z"
    }
   },
   "outputs": [
    {
     "data": {
      "text/plain": [
       "count        19.000000\n",
       "mean      36979.789474\n",
       "std       70382.293452\n",
       "min        2900.000000\n",
       "25%        6225.000000\n",
       "50%       10579.000000\n",
       "75%       26208.000000\n",
       "max      289425.000000\n",
       "Name: Primary Votes, dtype: float64"
      ]
     },
     "execution_count": 62,
     "metadata": {},
     "output_type": "execute_result"
    }
   ],
   "source": [
    "rep[rep['Runoff Outcome']=='Won']['Primary Votes'].str.replace(',', '').astype(int).describe()"
   ]
  },
  {
   "cell_type": "code",
   "execution_count": 63,
   "id": "7561c5fe",
   "metadata": {
    "ExecuteTime": {
     "end_time": "2023-04-18T16:06:18.037375Z",
     "start_time": "2023-04-18T16:06:18.023137Z"
    }
   },
   "outputs": [],
   "source": [
    "dem_desc = dem[dem['Runoff Outcome']=='Won']['Primary Votes'].str.replace(',', '').astype(int).describe()\n",
    "dem_desc=pd.DataFrame(data=dem_desc)\n",
    "dem_desc.rename(columns={'Primary Votes':'Democratic Primary Votes'}, inplace=True)"
   ]
  },
  {
   "cell_type": "code",
   "execution_count": 64,
   "id": "d2109506",
   "metadata": {
    "ExecuteTime": {
     "end_time": "2023-04-18T16:06:18.524395Z",
     "start_time": "2023-04-18T16:06:18.508627Z"
    }
   },
   "outputs": [],
   "source": [
    "rep_desc = rep[rep['Runoff Outcome']=='Won']['Primary Votes'].str.replace(',', '').astype(int).describe()\n",
    "rep_desc=pd.DataFrame(data=rep_desc)\n",
    "rep_desc.rename(columns={'Primary Votes':'Republican Primary Votes'}, inplace=True)"
   ]
  },
  {
   "cell_type": "code",
   "execution_count": 65,
   "id": "9ba8f093",
   "metadata": {
    "ExecuteTime": {
     "end_time": "2023-04-18T16:06:18.986076Z",
     "start_time": "2023-04-18T16:06:18.979664Z"
    }
   },
   "outputs": [
    {
     "data": {
      "text/plain": [
       "Index(['count', 'mean', 'std', 'min', '25%', '50%', '75%', 'max'], dtype='object')"
      ]
     },
     "execution_count": 65,
     "metadata": {},
     "output_type": "execute_result"
    }
   ],
   "source": [
    "rep_desc.index"
   ]
  },
  {
   "cell_type": "code",
   "execution_count": 66,
   "id": "6a461908",
   "metadata": {
    "ExecuteTime": {
     "end_time": "2023-04-18T16:06:20.600550Z",
     "start_time": "2023-04-18T16:06:20.579098Z"
    }
   },
   "outputs": [
    {
     "data": {
      "text/html": [
       "<div>\n",
       "<style scoped>\n",
       "    .dataframe tbody tr th:only-of-type {\n",
       "        vertical-align: middle;\n",
       "    }\n",
       "\n",
       "    .dataframe tbody tr th {\n",
       "        vertical-align: top;\n",
       "    }\n",
       "\n",
       "    .dataframe thead th {\n",
       "        text-align: right;\n",
       "    }\n",
       "</style>\n",
       "<table border=\"1\" class=\"dataframe\">\n",
       "  <thead>\n",
       "    <tr style=\"text-align: right;\">\n",
       "      <th></th>\n",
       "      <th>Republican Primary Votes</th>\n",
       "      <th>Democratic Primary Votes</th>\n",
       "    </tr>\n",
       "    <tr>\n",
       "      <th>key_0</th>\n",
       "      <th></th>\n",
       "      <th></th>\n",
       "    </tr>\n",
       "  </thead>\n",
       "  <tbody>\n",
       "    <tr>\n",
       "      <th>count</th>\n",
       "      <td>19.000000</td>\n",
       "      <td>12.000000</td>\n",
       "    </tr>\n",
       "    <tr>\n",
       "      <th>mean</th>\n",
       "      <td>36979.789474</td>\n",
       "      <td>25786.250000</td>\n",
       "    </tr>\n",
       "    <tr>\n",
       "      <th>std</th>\n",
       "      <td>70382.293452</td>\n",
       "      <td>20562.073251</td>\n",
       "    </tr>\n",
       "    <tr>\n",
       "      <th>min</th>\n",
       "      <td>2900.000000</td>\n",
       "      <td>6570.000000</td>\n",
       "    </tr>\n",
       "    <tr>\n",
       "      <th>25%</th>\n",
       "      <td>6225.000000</td>\n",
       "      <td>10774.750000</td>\n",
       "    </tr>\n",
       "    <tr>\n",
       "      <th>50%</th>\n",
       "      <td>10579.000000</td>\n",
       "      <td>16861.000000</td>\n",
       "    </tr>\n",
       "    <tr>\n",
       "      <th>75%</th>\n",
       "      <td>26208.000000</td>\n",
       "      <td>34346.250000</td>\n",
       "    </tr>\n",
       "    <tr>\n",
       "      <th>max</th>\n",
       "      <td>289425.000000</td>\n",
       "      <td>60691.000000</td>\n",
       "    </tr>\n",
       "  </tbody>\n",
       "</table>\n",
       "</div>"
      ],
      "text/plain": [
       "       Republican Primary Votes  Democratic Primary Votes\n",
       "key_0                                                    \n",
       "count                 19.000000                 12.000000\n",
       "mean               36979.789474              25786.250000\n",
       "std                70382.293452              20562.073251\n",
       "min                 2900.000000               6570.000000\n",
       "25%                 6225.000000              10774.750000\n",
       "50%                10579.000000              16861.000000\n",
       "75%                26208.000000              34346.250000\n",
       "max               289425.000000              60691.000000"
      ]
     },
     "execution_count": 66,
     "metadata": {},
     "output_type": "execute_result"
    }
   ],
   "source": [
    "rd_won_desc = rep_desc.merge(dem_desc, on=dem_desc.index)\n",
    "rd_won_desc.set_index('key_0', inplace=True)\n",
    "rd_won_desc"
   ]
  },
  {
   "cell_type": "markdown",
   "id": "58aa32fc",
   "metadata": {},
   "source": [
    "****"
   ]
  },
  {
   "cell_type": "code",
   "execution_count": 67,
   "id": "8dab8c31",
   "metadata": {
    "ExecuteTime": {
     "end_time": "2023-04-18T16:06:22.332041Z",
     "start_time": "2023-04-18T16:06:22.325997Z"
    }
   },
   "outputs": [
    {
     "data": {
      "text/plain": [
       "Female    64\n",
       "Name: Gender, dtype: int64"
      ]
     },
     "execution_count": 67,
     "metadata": {},
     "output_type": "execute_result"
    }
   ],
   "source": [
    "EL = dem[dem['EMILY\\'s List']=='Yes']\n",
    "EL['Gender'].value_counts()"
   ]
  },
  {
   "cell_type": "code",
   "execution_count": 68,
   "id": "912774e7",
   "metadata": {
    "ExecuteTime": {
     "end_time": "2023-04-18T16:06:22.876751Z",
     "start_time": "2023-04-18T16:06:22.860026Z"
    }
   },
   "outputs": [
    {
     "data": {
      "text/plain": [
       "New York          6\n",
       "Illinois          5\n",
       "Michigan          5\n",
       "Iowa              5\n",
       "North Carolina    3\n",
       "Name: State, dtype: int64"
      ]
     },
     "execution_count": 68,
     "metadata": {},
     "output_type": "execute_result"
    }
   ],
   "source": [
    "EL['State'].value_counts()[:5]"
   ]
  },
  {
   "cell_type": "code",
   "execution_count": 69,
   "id": "9c4517c2",
   "metadata": {
    "ExecuteTime": {
     "end_time": "2023-04-18T16:06:24.017654Z",
     "start_time": "2023-04-18T16:06:24.003571Z"
    }
   },
   "outputs": [
    {
     "name": "stdout",
     "output_type": "stream",
     "text": [
      "EMIL\n",
      "Just\n",
      "Indi\n",
      "PCCC\n",
      "Our\n",
      "Sunr\n",
      "Sand\n",
      "AOC\n",
      "Part\n"
     ]
    }
   ],
   "source": [
    "endorsement = dem.columns[17:26]  # Lista organizacija\n",
    "\n",
    "sum_yes = 0 # Na kraju ce predstavljati koliko puta su kandidati podrzani\n",
    "sum_no  = 0\n",
    "for edrsmnt in endorsement:\n",
    "    name = str(edrsmnt.split(' ')[0][:4])\n",
    "    \n",
    "    print(name)\n",
    "    \n",
    "    globals()['%s_yes' %name] = dem[dem[edrsmnt]=='Yes']\n",
    "    globals()['%s_no' %name] = dem[dem[edrsmnt]=='No']\n",
    "    \n",
    "    sum_yes = sum_yes + len(globals()['%s_yes' %name])\n",
    "    sum_no  = sum_no + len(globals()['%s_no' %name])"
   ]
  },
  {
   "cell_type": "code",
   "execution_count": 70,
   "id": "8d0bbc29",
   "metadata": {
    "ExecuteTime": {
     "end_time": "2023-04-18T16:06:24.592139Z",
     "start_time": "2023-04-18T16:06:24.588622Z"
    }
   },
   "outputs": [
    {
     "name": "stdout",
     "output_type": "stream",
     "text": [
      "Ukupan broj podrzanih demoktatskih kandidata sum_yes = 226 i suprotno sum_no = 537\n"
     ]
    }
   ],
   "source": [
    "print('Ukupan broj podrzanih demoktatskih kandidata sum_yes = %s i suprotno sum_no = %s' %(sum_yes, sum_no))"
   ]
  },
  {
   "cell_type": "code",
   "execution_count": 71,
   "id": "e4345c4a",
   "metadata": {
    "ExecuteTime": {
     "end_time": "2023-04-18T16:06:25.609573Z",
     "start_time": "2023-04-18T16:06:25.605568Z"
    }
   },
   "outputs": [
    {
     "data": {
      "text/plain": [
       "Index(['2020 Election Stance', 'Trump', 'Trump Date', 'Club for Growth',\n",
       "       'Party Committee', 'Renew America', 'E-PAC', 'VIEW PAC',\n",
       "       'Maggie's List', 'Winning for Women', 'Date_column', 'day_of_week',\n",
       "       'now2date', 'Month', 'country_code', 'Race'],\n",
       "      dtype='object')"
      ]
     },
     "execution_count": 71,
     "metadata": {},
     "output_type": "execute_result"
    }
   ],
   "source": [
    "rep.columns[17:]"
   ]
  },
  {
   "cell_type": "code",
   "execution_count": 72,
   "id": "4cc0e33a",
   "metadata": {
    "ExecuteTime": {
     "end_time": "2023-04-18T16:06:26.291727Z",
     "start_time": "2023-04-18T16:06:26.264287Z"
    }
   },
   "outputs": [
    {
     "name": "stdout",
     "output_type": "stream",
     "text": [
      "2020\n",
      "Trum\n",
      "Trum\n",
      "Club\n",
      "Part\n",
      "Rene\n",
      "E-PA\n",
      "VIEW\n",
      "Magg\n",
      "Winn\n",
      "Date\n",
      "day_\n",
      "now2\n",
      "Mont\n",
      "coun\n",
      "Race\n"
     ]
    }
   ],
   "source": [
    "# za republikance\n",
    "\n",
    "endorsement = rep.columns[17:]  # Lista organizacija\n",
    "\n",
    "sum_yes = 0 # Na kraju ce predstavljati koliko puta su kandidati podrzani\n",
    "sum_no  = 0\n",
    "for edrsmnt in endorsement:\n",
    "    name = str(edrsmnt.split(' ')[0][:4])\n",
    "    \n",
    "    print(name)\n",
    "    \n",
    "    globals()['%s_yes' %name] = rep[rep[edrsmnt]=='Yes']\n",
    "    globals()['%s_no' %name] = rep[rep[edrsmnt]=='No']\n",
    "    \n",
    "    sum_yes = sum_yes + len(globals()['%s_yes' %name])\n",
    "    sum_no  = sum_no + len(globals()['%s_no' %name])"
   ]
  },
  {
   "cell_type": "code",
   "execution_count": 73,
   "id": "714982bd",
   "metadata": {
    "ExecuteTime": {
     "end_time": "2023-04-18T16:06:27.239064Z",
     "start_time": "2023-04-18T16:06:27.236096Z"
    }
   },
   "outputs": [
    {
     "name": "stdout",
     "output_type": "stream",
     "text": [
      "Ukupan broj podrzanih republikanskih kandidata sum_yes = 418 i suprotno sum_no = 1174\n"
     ]
    }
   ],
   "source": [
    "print('Ukupan broj podrzanih republikanskih kandidata sum_yes = %s i suprotno sum_no = %s' %(sum_yes, sum_no))"
   ]
  },
  {
   "cell_type": "markdown",
   "id": "547b57a8",
   "metadata": {},
   "source": [
    "****"
   ]
  },
  {
   "cell_type": "markdown",
   "id": "39c04965",
   "metadata": {},
   "source": [
    "## g s p r e a d"
   ]
  },
  {
   "cell_type": "code",
   "execution_count": 74,
   "id": "39e45ce0",
   "metadata": {
    "ExecuteTime": {
     "end_time": "2023-04-18T16:06:28.749738Z",
     "start_time": "2023-04-18T16:06:28.738955Z"
    }
   },
   "outputs": [],
   "source": [
    "scope = ['https://googleapis.com/auth/sreadsheets', 'https://googleapis.com/auth/drive']\n",
    "credentials = ServiceAccountCredentials.from_json_keyfile_name('/home/aleksandar/Desktop/data_science & machine_learning/DATA_SCIENCE_KURS_COINIS/zavrsni_projekat/dev-labs-383116-d862af2b321b.json')"
   ]
  },
  {
   "cell_type": "code",
   "execution_count": 75,
   "id": "7a4afcbd",
   "metadata": {
    "ExecuteTime": {
     "end_time": "2023-04-18T16:06:42.664056Z",
     "start_time": "2023-04-18T16:06:29.621075Z"
    }
   },
   "outputs": [],
   "source": [
    "client = gspread.authorize(credentials)\n",
    "\n",
    "sheet_d = client.create('Democratic')\n",
    "sheet_r = client.create('Republican')\n",
    "\n",
    "sheet_d.share('zecevic050@gmail.com', perm_type='user', role='writer')\n",
    "sheet_r.share('zecevic050@gmail.com', perm_type='user', role='writer')\n",
    "\n",
    "sheetd = client.open('Democratic').sheet1\n",
    "sheetr = client.open('Republican').sheet1"
   ]
  },
  {
   "cell_type": "code",
   "execution_count": 76,
   "id": "fdc4c21c",
   "metadata": {
    "ExecuteTime": {
     "end_time": "2023-04-18T16:06:44.443253Z",
     "start_time": "2023-04-18T16:06:44.439103Z"
    }
   },
   "outputs": [
    {
     "data": {
      "text/plain": [
       "Index(['Candidate', 'Gender', 'Race 1', 'Race 2', 'Race 3', 'Incumbent',\n",
       "       'Incumbent Challenger', 'State', 'Primary Date', 'Office', 'District',\n",
       "       'Primary Votes', 'Primary %', 'Primary Outcome', 'Runoff Votes',\n",
       "       'Runoff %', 'Runoff Outcome', 'EMILY's List', 'Justice Dems',\n",
       "       'Indivisible', 'PCCC', 'Our Revolution', 'Sunrise', 'Sanders', 'AOC',\n",
       "       'Party Committee', 'Date_column', 'day_of_week', 'now2date', 'Month',\n",
       "       'country_code', 'Race'],\n",
       "      dtype='object')"
      ]
     },
     "execution_count": 76,
     "metadata": {},
     "output_type": "execute_result"
    }
   ],
   "source": [
    "dem.columns"
   ]
  },
  {
   "cell_type": "code",
   "execution_count": 77,
   "id": "ff74e5f3",
   "metadata": {
    "ExecuteTime": {
     "end_time": "2023-04-18T16:06:44.895691Z",
     "start_time": "2023-04-18T16:06:44.884914Z"
    }
   },
   "outputs": [],
   "source": [
    "dem['Date_column'] = pd.to_datetime(dem['Date_column']).dt.strftime('%Y-%m-%d')"
   ]
  },
  {
   "cell_type": "code",
   "execution_count": 78,
   "id": "d129e023",
   "metadata": {
    "ExecuteTime": {
     "end_time": "2023-04-18T16:06:45.391775Z",
     "start_time": "2023-04-18T16:06:45.377313Z"
    }
   },
   "outputs": [],
   "source": [
    "rep['Date_column'] = pd.to_datetime(rep['Date_column']).dt.strftime('%Y-%m-%d')"
   ]
  },
  {
   "cell_type": "code",
   "execution_count": 79,
   "id": "e516ceab",
   "metadata": {
    "ExecuteTime": {
     "end_time": "2023-04-18T16:06:47.067086Z",
     "start_time": "2023-04-18T16:06:45.865820Z"
    }
   },
   "outputs": [
    {
     "data": {
      "text/plain": [
       "{'spreadsheetId': '1FDPS1GZnE7UsNpwMN1vMnVkykhFWLN98bLoJzbPOmOQ',\n",
       " 'updatedRange': 'Sheet1!A1:AF1078',\n",
       " 'updatedRows': 1078,\n",
       " 'updatedColumns': 32,\n",
       " 'updatedCells': 20060}"
      ]
     },
     "execution_count": 79,
     "metadata": {},
     "output_type": "execute_result"
    }
   ],
   "source": [
    "sheetd.update([dem.columns.tolist()] + dem.values.tolist())"
   ]
  },
  {
   "cell_type": "code",
   "execution_count": 80,
   "id": "2c97c88d",
   "metadata": {
    "ExecuteTime": {
     "end_time": "2023-04-18T16:06:49.382847Z",
     "start_time": "2023-04-18T16:06:48.053690Z"
    }
   },
   "outputs": [
    {
     "data": {
      "text/plain": [
       "{'spreadsheetId': '1c_mrzi8vRRnJnwdllZeE6g07vQSCtRq8ToKNh0C6lys',\n",
       " 'updatedRange': 'Sheet1!A1:AG1600',\n",
       " 'updatedRows': 1600,\n",
       " 'updatedColumns': 33,\n",
       " 'updatedCells': 31960}"
      ]
     },
     "execution_count": 80,
     "metadata": {},
     "output_type": "execute_result"
    }
   ],
   "source": [
    "sheetr.update([rep.columns.tolist()] + rep.values.tolist())"
   ]
  },
  {
   "cell_type": "code",
   "execution_count": 81,
   "id": "da5bdd65",
   "metadata": {
    "ExecuteTime": {
     "end_time": "2023-04-18T16:06:52.373510Z",
     "start_time": "2023-04-18T16:06:51.030278Z"
    }
   },
   "outputs": [
    {
     "data": {
      "text/plain": [
       "1078"
      ]
     },
     "execution_count": 81,
     "metadata": {},
     "output_type": "execute_result"
    }
   ],
   "source": [
    "sheet = client.open('Democratic').sheet1\n",
    "\n",
    "# Detektovanje maksimalnog reda u tabeli\n",
    "max_row = len(sheet.get_all_values())\n",
    "max_row"
   ]
  },
  {
   "cell_type": "code",
   "execution_count": 82,
   "id": "95a0f46e",
   "metadata": {
    "ExecuteTime": {
     "end_time": "2023-04-18T16:06:53.298983Z",
     "start_time": "2023-04-18T16:06:53.295182Z"
    }
   },
   "outputs": [],
   "source": [
    "def upis_u_sheet(df, sheet):\n",
    "    \"\"\" Funkcija koja dodaje 4x DF u sheet, random redosledom redova\"\"\"\n",
    "\n",
    "    df4x = pd.concat([df]*4, ignore_index=True)\n",
    "    random_rows = df4x.sample(frac=1).reset_index(drop=True)\n",
    "    \n",
    "    rows = random_rows.values.tolist()\n",
    "    \n",
    "    for row in rows:\n",
    "        sheet.append_row(row)"
   ]
  },
  {
   "cell_type": "code",
   "execution_count": 84,
   "id": "ebc57ad5",
   "metadata": {
    "ExecuteTime": {
     "end_time": "2023-04-14T18:47:33.593690Z",
     "start_time": "2023-04-14T18:47:33.591135Z"
    }
   },
   "outputs": [],
   "source": [
    "upis_u_sheet(dem, sheet1)"
   ]
  },
  {
   "cell_type": "markdown",
   "id": "b3e30a4d",
   "metadata": {},
   "source": [
    "****"
   ]
  },
  {
   "cell_type": "markdown",
   "id": "ccff7c15",
   "metadata": {},
   "source": [
    "# V I Z U A L I Z A C I J A"
   ]
  },
  {
   "cell_type": "code",
   "execution_count": 85,
   "id": "3c11c05a",
   "metadata": {
    "ExecuteTime": {
     "end_time": "2023-04-18T16:07:08.405551Z",
     "start_time": "2023-04-18T16:07:08.400656Z"
    }
   },
   "outputs": [],
   "source": [
    "demm = dem['Gender'].value_counts()\n",
    "repp = rep['Gender'].value_counts()\n",
    "\n",
    "repp = pd.DataFrame(repp)\n",
    "demm = pd.DataFrame(demm)"
   ]
  },
  {
   "cell_type": "code",
   "execution_count": 86,
   "id": "dfb63bd1",
   "metadata": {
    "ExecuteTime": {
     "end_time": "2023-04-18T16:07:10.920418Z",
     "start_time": "2023-04-18T16:07:10.414219Z"
    }
   },
   "outputs": [
    {
     "data": {
      "image/png": "[encoded data removed]",
      "text/plain": [
       "<Figure size 1000x500 with 2 Axes>"
      ]
     },
     "metadata": {},
     "output_type": "display_data"
    }
   ],
   "source": [
    "fig, (ax1, ax2) = plt.subplots(1, 2, figsize=(10, 5))\n",
    "\n",
    "ax1.pie(demm['Gender'], labels=demm.index, autopct='%1.1f%%', shadow=True)\n",
    "ax1.set_title('Democratic primaries')\n",
    "\n",
    "ax2.pie(repp['Gender'], labels=repp.index, autopct='%1.1f%%', shadow=True)\n",
    "ax2.set_title('Republican primaries')\n",
    "\n",
    "fig.suptitle('G e n d e r')\n",
    "\n",
    "plt.savefig('Pie_Gender.png', dpi=250, facecolor='white', bbox_inches='tight')\n",
    "plt.show()"
   ]
  },
  {
   "cell_type": "code",
   "execution_count": 87,
   "id": "627b2de5",
   "metadata": {
    "ExecuteTime": {
     "end_time": "2023-04-18T16:07:11.646433Z",
     "start_time": "2023-04-18T16:07:11.635089Z"
    }
   },
   "outputs": [
    {
     "data": {
      "text/html": [
       "<div>\n",
       "<style scoped>\n",
       "    .dataframe tbody tr th:only-of-type {\n",
       "        vertical-align: middle;\n",
       "    }\n",
       "\n",
       "    .dataframe tbody tr th {\n",
       "        vertical-align: top;\n",
       "    }\n",
       "\n",
       "    .dataframe thead th {\n",
       "        text-align: right;\n",
       "    }\n",
       "</style>\n",
       "<table border=\"1\" class=\"dataframe\">\n",
       "  <thead>\n",
       "    <tr style=\"text-align: right;\">\n",
       "      <th></th>\n",
       "      <th>Race</th>\n",
       "      <th>primaries</th>\n",
       "    </tr>\n",
       "  </thead>\n",
       "  <tbody>\n",
       "    <tr>\n",
       "      <th>White</th>\n",
       "      <td>1258</td>\n",
       "      <td>Republican</td>\n",
       "    </tr>\n",
       "    <tr>\n",
       "      <th>Black</th>\n",
       "      <td>122</td>\n",
       "      <td>Republican</td>\n",
       "    </tr>\n",
       "    <tr>\n",
       "      <th>Latino</th>\n",
       "      <td>97</td>\n",
       "      <td>Republican</td>\n",
       "    </tr>\n",
       "    <tr>\n",
       "      <th>Asian</th>\n",
       "      <td>50</td>\n",
       "      <td>Republican</td>\n",
       "    </tr>\n",
       "    <tr>\n",
       "      <th>Unknown</th>\n",
       "      <td>49</td>\n",
       "      <td>Republican</td>\n",
       "    </tr>\n",
       "    <tr>\n",
       "      <th>Middle Eastern</th>\n",
       "      <td>14</td>\n",
       "      <td>Republican</td>\n",
       "    </tr>\n",
       "    <tr>\n",
       "      <th>Pacific Islander</th>\n",
       "      <td>5</td>\n",
       "      <td>Republican</td>\n",
       "    </tr>\n",
       "    <tr>\n",
       "      <th>Native American</th>\n",
       "      <td>4</td>\n",
       "      <td>Republican</td>\n",
       "    </tr>\n",
       "    <tr>\n",
       "      <th>White</th>\n",
       "      <td>576</td>\n",
       "      <td>Democratic</td>\n",
       "    </tr>\n",
       "    <tr>\n",
       "      <th>Black</th>\n",
       "      <td>298</td>\n",
       "      <td>Democratic</td>\n",
       "    </tr>\n",
       "    <tr>\n",
       "      <th>Latino</th>\n",
       "      <td>109</td>\n",
       "      <td>Democratic</td>\n",
       "    </tr>\n",
       "    <tr>\n",
       "      <th>Asian</th>\n",
       "      <td>56</td>\n",
       "      <td>Democratic</td>\n",
       "    </tr>\n",
       "    <tr>\n",
       "      <th>Unknown</th>\n",
       "      <td>17</td>\n",
       "      <td>Democratic</td>\n",
       "    </tr>\n",
       "    <tr>\n",
       "      <th>Middle Eastern</th>\n",
       "      <td>11</td>\n",
       "      <td>Democratic</td>\n",
       "    </tr>\n",
       "    <tr>\n",
       "      <th>Native American</th>\n",
       "      <td>9</td>\n",
       "      <td>Democratic</td>\n",
       "    </tr>\n",
       "    <tr>\n",
       "      <th>Pacific Islander</th>\n",
       "      <td>1</td>\n",
       "      <td>Democratic</td>\n",
       "    </tr>\n",
       "  </tbody>\n",
       "</table>\n",
       "</div>"
      ],
      "text/plain": [
       "                  Race   primaries\n",
       "White             1258  Republican\n",
       "Black              122  Republican\n",
       "Latino              97  Republican\n",
       "Asian               50  Republican\n",
       "Unknown             49  Republican\n",
       "Middle Eastern      14  Republican\n",
       "Pacific Islander     5  Republican\n",
       "Native American      4  Republican\n",
       "White              576  Democratic\n",
       "Black              298  Democratic\n",
       "Latino             109  Democratic\n",
       "Asian               56  Democratic\n",
       "Unknown             17  Democratic\n",
       "Middle Eastern      11  Democratic\n",
       "Native American      9  Democratic\n",
       "Pacific Islander     1  Democratic"
      ]
     },
     "execution_count": 87,
     "metadata": {},
     "output_type": "execute_result"
    }
   ],
   "source": [
    "demRace = pd.DataFrame(dem['Race'].value_counts())\n",
    "repRace = pd.DataFrame(rep['Race'].value_counts())\n",
    "\n",
    "demRace['primaries'] = np.full((len(demRace)), 'Democratic')\n",
    "repRace['primaries'] = np.full((len(repRace)), 'Republican')\n",
    "\n",
    "df = pd.concat([repRace, demRace])\n",
    "df"
   ]
  },
  {
   "cell_type": "code",
   "execution_count": 88,
   "id": "d12e4765",
   "metadata": {
    "ExecuteTime": {
     "end_time": "2023-04-18T16:07:13.788928Z",
     "start_time": "2023-04-18T16:07:13.048005Z"
    }
   },
   "outputs": [
    {
     "data": {
      "text/plain": [
       "<function matplotlib.pyplot.show(close=None, block=None)>"
      ]
     },
     "execution_count": 88,
     "metadata": {},
     "output_type": "execute_result"
    },
    {
     "data": {
      "image/png": "[encoded data removed]",
      "text/plain": [
       "<Figure size 1600x1200 with 1 Axes>"
      ]
     },
     "metadata": {},
     "output_type": "display_data"
    }
   ],
   "source": [
    "sns.set_theme(style='whitegrid')\n",
    "\n",
    "fig, ax = plt.subplots(figsize=(16,12))\n",
    "\n",
    "for axis in ['top','bottom','left','right']:\n",
    "    ax.spines[axis].set_linewidth(2)\n",
    "\n",
    "ax.spines['right'].set_visible(False)\n",
    "ax.spines['top'].set_visible(False)\n",
    "\n",
    "label_font = {'fontname':'serif','size':12}\n",
    "sns.barplot(x=df.index, y=df['Race'], hue=df.primaries, data=df)\n",
    "\n",
    "plt.xlabel('Race', **label_font)\n",
    "plt.ylabel('')\n",
    "\n",
    "plt.savefig('Race_bar.png', bbox_inches = 'tight', dpi=250)\n",
    "plt.show"
   ]
  },
  {
   "cell_type": "code",
   "execution_count": 89,
   "id": "d585cc89",
   "metadata": {
    "ExecuteTime": {
     "end_time": "2023-04-18T16:07:14.390908Z",
     "start_time": "2023-04-18T16:07:14.366808Z"
    }
   },
   "outputs": [],
   "source": [
    "demRace = pd.DataFrame(dem['State'].value_counts())\n",
    "repRace = pd.DataFrame(rep['State'].value_counts())\n",
    "\n",
    "demRace['primaries'] = np.full((len(demRace)), 'Democratic')\n",
    "repRace['primaries'] = np.full((len(repRace)), 'Republican')\n",
    "\n",
    "df = pd.concat([repRace, demRace])\n",
    "df = df[df['State']>20]"
   ]
  },
  {
   "cell_type": "code",
   "execution_count": 90,
   "id": "874e8684",
   "metadata": {
    "ExecuteTime": {
     "end_time": "2023-04-18T16:07:16.583211Z",
     "start_time": "2023-04-18T16:07:15.153566Z"
    }
   },
   "outputs": [
    {
     "data": {
      "image/png": "[encoded data removed]",
      "text/plain": [
       "<Figure size 1600x1200 with 1 Axes>"
      ]
     },
     "metadata": {},
     "output_type": "display_data"
    }
   ],
   "source": [
    "sns.set_theme(style='whitegrid')\n",
    "\n",
    "fig, ax = plt.subplots(figsize=(16,12))\n",
    "\n",
    "for axis in ['top','bottom','left','right']:\n",
    "    ax.spines[axis].set_linewidth(2)\n",
    "\n",
    "ax.spines['right'].set_visible(False)\n",
    "ax.spines['top'].set_visible(False)\n",
    "\n",
    "label_font = {'fontname':'serif','size':12}\n",
    "sns.barplot(x=df.index, y=df['State'], hue=df.primaries, data=df)\n",
    "\n",
    "plt.xlabel('State', **label_font)\n",
    "plt.xticks(rotation=90)\n",
    "plt.ylabel('')\n",
    "\n",
    "plt.savefig('State_bar.png', bbox_inches = 'tight', dpi=250)\n",
    "plt.show()"
   ]
  },
  {
   "cell_type": "code",
   "execution_count": 91,
   "id": "5b3747fd",
   "metadata": {
    "ExecuteTime": {
     "end_time": "2023-04-18T16:07:17.199579Z",
     "start_time": "2023-04-18T16:07:17.177308Z"
    }
   },
   "outputs": [
    {
     "data": {
      "text/html": [
       "<div>\n",
       "<style scoped>\n",
       "    .dataframe tbody tr th:only-of-type {\n",
       "        vertical-align: middle;\n",
       "    }\n",
       "\n",
       "    .dataframe tbody tr th {\n",
       "        vertical-align: top;\n",
       "    }\n",
       "\n",
       "    .dataframe thead th {\n",
       "        text-align: right;\n",
       "    }\n",
       "</style>\n",
       "<table border=\"1\" class=\"dataframe\">\n",
       "  <thead>\n",
       "    <tr style=\"text-align: right;\">\n",
       "      <th></th>\n",
       "      <th>Office</th>\n",
       "      <th>primaries</th>\n",
       "    </tr>\n",
       "  </thead>\n",
       "  <tbody>\n",
       "    <tr>\n",
       "      <th>Representative</th>\n",
       "      <td>1214</td>\n",
       "      <td>Republican</td>\n",
       "    </tr>\n",
       "    <tr>\n",
       "      <th>Governor</th>\n",
       "      <td>187</td>\n",
       "      <td>Republican</td>\n",
       "    </tr>\n",
       "    <tr>\n",
       "      <th>Senator</th>\n",
       "      <td>181</td>\n",
       "      <td>Republican</td>\n",
       "    </tr>\n",
       "    <tr>\n",
       "      <th>Senator (unexpired term)</th>\n",
       "      <td>17</td>\n",
       "      <td>Republican</td>\n",
       "    </tr>\n",
       "    <tr>\n",
       "      <th>Representative</th>\n",
       "      <td>852</td>\n",
       "      <td>Democratic</td>\n",
       "    </tr>\n",
       "    <tr>\n",
       "      <th>Senator</th>\n",
       "      <td>114</td>\n",
       "      <td>Democratic</td>\n",
       "    </tr>\n",
       "    <tr>\n",
       "      <th>Governor</th>\n",
       "      <td>107</td>\n",
       "      <td>Democratic</td>\n",
       "    </tr>\n",
       "    <tr>\n",
       "      <th>Senator (unexpired term)</th>\n",
       "      <td>4</td>\n",
       "      <td>Democratic</td>\n",
       "    </tr>\n",
       "  </tbody>\n",
       "</table>\n",
       "</div>"
      ],
      "text/plain": [
       "                          Office   primaries\n",
       "Representative              1214  Republican\n",
       "Governor                     187  Republican\n",
       "Senator                      181  Republican\n",
       "Senator (unexpired term)      17  Republican\n",
       "Representative               852  Democratic\n",
       "Senator                      114  Democratic\n",
       "Governor                     107  Democratic\n",
       "Senator (unexpired term)       4  Democratic"
      ]
     },
     "execution_count": 91,
     "metadata": {},
     "output_type": "execute_result"
    }
   ],
   "source": [
    "demRace = pd.DataFrame(dem['Office'].value_counts())\n",
    "repRace = pd.DataFrame(rep['Office'].value_counts())\n",
    "\n",
    "demRace['primaries'] = np.full((len(demRace)), 'Democratic')\n",
    "repRace['primaries'] = np.full((len(repRace)), 'Republican')\n",
    "\n",
    "df = pd.concat([repRace, demRace])\n",
    "df"
   ]
  },
  {
   "cell_type": "code",
   "execution_count": 92,
   "id": "f6a3740f",
   "metadata": {
    "ExecuteTime": {
     "end_time": "2023-04-18T16:07:21.763726Z",
     "start_time": "2023-04-18T16:07:21.079630Z"
    }
   },
   "outputs": [
    {
     "data": {
      "image/png": "[encoded data removed]",
      "text/plain": [
       "<Figure size 1600x1200 with 1 Axes>"
      ]
     },
     "metadata": {},
     "output_type": "display_data"
    }
   ],
   "source": [
    "sns.set_theme(style='whitegrid')\n",
    "\n",
    "fig, ax = plt.subplots(figsize=(16,12))\n",
    "\n",
    "for axis in ['top','bottom','left','right']:\n",
    "    ax.spines[axis].set_linewidth(2)\n",
    "\n",
    "ax.spines['right'].set_visible(False)\n",
    "ax.spines['top'].set_visible(False)\n",
    "\n",
    "label_font = {'fontname':'serif','size':12}\n",
    "sns.barplot(x=df.index, y=df['Office'], hue=df.primaries, data=df)\n",
    "\n",
    "plt.xlabel('Office', **label_font)\n",
    "plt.xticks(rotation=30)\n",
    "plt.ylabel('')\n",
    "\n",
    "plt.savefig('Office_bar.png', bbox_inches = 'tight', dpi=250)\n",
    "plt.show()"
   ]
  },
  {
   "cell_type": "code",
   "execution_count": null,
   "id": "7820028e",
   "metadata": {},
   "outputs": [],
   "source": []
  },
  {
   "cell_type": "code",
   "execution_count": 93,
   "id": "0b4707ea",
   "metadata": {
    "ExecuteTime": {
     "end_time": "2023-04-18T16:07:25.154508Z",
     "start_time": "2023-04-18T16:07:25.134865Z"
    }
   },
   "outputs": [
    {
     "data": {
      "text/html": [
       "<div>\n",
       "<style scoped>\n",
       "    .dataframe tbody tr th:only-of-type {\n",
       "        vertical-align: middle;\n",
       "    }\n",
       "\n",
       "    .dataframe tbody tr th {\n",
       "        vertical-align: top;\n",
       "    }\n",
       "\n",
       "    .dataframe thead th {\n",
       "        text-align: right;\n",
       "    }\n",
       "</style>\n",
       "<table border=\"1\" class=\"dataframe\">\n",
       "  <thead>\n",
       "    <tr style=\"text-align: right;\">\n",
       "      <th></th>\n",
       "      <th>Date_column</th>\n",
       "      <th>primaries</th>\n",
       "    </tr>\n",
       "  </thead>\n",
       "  <tbody>\n",
       "    <tr>\n",
       "      <th>2022-06-07</th>\n",
       "      <td>238</td>\n",
       "      <td>Republican</td>\n",
       "    </tr>\n",
       "    <tr>\n",
       "      <th>2022-05-17</th>\n",
       "      <td>207</td>\n",
       "      <td>Republican</td>\n",
       "    </tr>\n",
       "    <tr>\n",
       "      <th>2022-08-02</th>\n",
       "      <td>177</td>\n",
       "      <td>Republican</td>\n",
       "    </tr>\n",
       "    <tr>\n",
       "      <th>2022-03-01</th>\n",
       "      <td>151</td>\n",
       "      <td>Republican</td>\n",
       "    </tr>\n",
       "    <tr>\n",
       "      <th>2022-06-28</th>\n",
       "      <td>143</td>\n",
       "      <td>Republican</td>\n",
       "    </tr>\n",
       "    <tr>\n",
       "      <th>2022-08-23</th>\n",
       "      <td>132</td>\n",
       "      <td>Republican</td>\n",
       "    </tr>\n",
       "    <tr>\n",
       "      <th>2022-05-24</th>\n",
       "      <td>104</td>\n",
       "      <td>Republican</td>\n",
       "    </tr>\n",
       "    <tr>\n",
       "      <th>2022-05-03</th>\n",
       "      <td>77</td>\n",
       "      <td>Republican</td>\n",
       "    </tr>\n",
       "    <tr>\n",
       "      <th>2022-06-14</th>\n",
       "      <td>73</td>\n",
       "      <td>Republican</td>\n",
       "    </tr>\n",
       "    <tr>\n",
       "      <th>2022-08-09</th>\n",
       "      <td>56</td>\n",
       "      <td>Republican</td>\n",
       "    </tr>\n",
       "    <tr>\n",
       "      <th>2022-07-19</th>\n",
       "      <td>48</td>\n",
       "      <td>Republican</td>\n",
       "    </tr>\n",
       "    <tr>\n",
       "      <th>2022-09-13</th>\n",
       "      <td>39</td>\n",
       "      <td>Republican</td>\n",
       "    </tr>\n",
       "    <tr>\n",
       "      <th>2022-08-16</th>\n",
       "      <td>30</td>\n",
       "      <td>Republican</td>\n",
       "    </tr>\n",
       "    <tr>\n",
       "      <th>2022-05-10</th>\n",
       "      <td>28</td>\n",
       "      <td>Republican</td>\n",
       "    </tr>\n",
       "    <tr>\n",
       "      <th>2022-08-04</th>\n",
       "      <td>24</td>\n",
       "      <td>Republican</td>\n",
       "    </tr>\n",
       "    <tr>\n",
       "      <th>2022-08-13</th>\n",
       "      <td>20</td>\n",
       "      <td>Republican</td>\n",
       "    </tr>\n",
       "    <tr>\n",
       "      <th>2022-05-21</th>\n",
       "      <td>18</td>\n",
       "      <td>Republican</td>\n",
       "    </tr>\n",
       "    <tr>\n",
       "      <th>2022-06-21</th>\n",
       "      <td>17</td>\n",
       "      <td>Republican</td>\n",
       "    </tr>\n",
       "    <tr>\n",
       "      <th>2022-09-06</th>\n",
       "      <td>12</td>\n",
       "      <td>Republican</td>\n",
       "    </tr>\n",
       "    <tr>\n",
       "      <th>2022-05-07</th>\n",
       "      <td>5</td>\n",
       "      <td>Republican</td>\n",
       "    </tr>\n",
       "    <tr>\n",
       "      <th>2022-06-07</th>\n",
       "      <td>174</td>\n",
       "      <td>Democratic</td>\n",
       "    </tr>\n",
       "    <tr>\n",
       "      <th>2022-05-17</th>\n",
       "      <td>141</td>\n",
       "      <td>Democratic</td>\n",
       "    </tr>\n",
       "    <tr>\n",
       "      <th>2022-08-23</th>\n",
       "      <td>133</td>\n",
       "      <td>Democratic</td>\n",
       "    </tr>\n",
       "    <tr>\n",
       "      <th>2022-08-02</th>\n",
       "      <td>111</td>\n",
       "      <td>Democratic</td>\n",
       "    </tr>\n",
       "    <tr>\n",
       "      <th>2022-06-28</th>\n",
       "      <td>86</td>\n",
       "      <td>Democratic</td>\n",
       "    </tr>\n",
       "    <tr>\n",
       "      <th>2022-03-01</th>\n",
       "      <td>84</td>\n",
       "      <td>Democratic</td>\n",
       "    </tr>\n",
       "    <tr>\n",
       "      <th>2022-05-24</th>\n",
       "      <td>63</td>\n",
       "      <td>Democratic</td>\n",
       "    </tr>\n",
       "    <tr>\n",
       "      <th>2022-05-03</th>\n",
       "      <td>53</td>\n",
       "      <td>Democratic</td>\n",
       "    </tr>\n",
       "    <tr>\n",
       "      <th>2022-08-09</th>\n",
       "      <td>53</td>\n",
       "      <td>Democratic</td>\n",
       "    </tr>\n",
       "    <tr>\n",
       "      <th>2022-07-19</th>\n",
       "      <td>42</td>\n",
       "      <td>Democratic</td>\n",
       "    </tr>\n",
       "    <tr>\n",
       "      <th>2022-06-14</th>\n",
       "      <td>41</td>\n",
       "      <td>Democratic</td>\n",
       "    </tr>\n",
       "    <tr>\n",
       "      <th>2022-09-13</th>\n",
       "      <td>19</td>\n",
       "      <td>Democratic</td>\n",
       "    </tr>\n",
       "    <tr>\n",
       "      <th>2022-08-13</th>\n",
       "      <td>17</td>\n",
       "      <td>Democratic</td>\n",
       "    </tr>\n",
       "    <tr>\n",
       "      <th>2022-08-04</th>\n",
       "      <td>16</td>\n",
       "      <td>Democratic</td>\n",
       "    </tr>\n",
       "    <tr>\n",
       "      <th>2022-05-10</th>\n",
       "      <td>11</td>\n",
       "      <td>Democratic</td>\n",
       "    </tr>\n",
       "    <tr>\n",
       "      <th>2022-09-06</th>\n",
       "      <td>11</td>\n",
       "      <td>Democratic</td>\n",
       "    </tr>\n",
       "    <tr>\n",
       "      <th>2022-06-21</th>\n",
       "      <td>10</td>\n",
       "      <td>Democratic</td>\n",
       "    </tr>\n",
       "    <tr>\n",
       "      <th>2022-08-16</th>\n",
       "      <td>10</td>\n",
       "      <td>Democratic</td>\n",
       "    </tr>\n",
       "    <tr>\n",
       "      <th>2022-06-11</th>\n",
       "      <td>1</td>\n",
       "      <td>Democratic</td>\n",
       "    </tr>\n",
       "    <tr>\n",
       "      <th>2022-05-21</th>\n",
       "      <td>1</td>\n",
       "      <td>Democratic</td>\n",
       "    </tr>\n",
       "  </tbody>\n",
       "</table>\n",
       "</div>"
      ],
      "text/plain": [
       "            Date_column   primaries\n",
       "2022-06-07          238  Republican\n",
       "2022-05-17          207  Republican\n",
       "2022-08-02          177  Republican\n",
       "2022-03-01          151  Republican\n",
       "2022-06-28          143  Republican\n",
       "2022-08-23          132  Republican\n",
       "2022-05-24          104  Republican\n",
       "2022-05-03           77  Republican\n",
       "2022-06-14           73  Republican\n",
       "2022-08-09           56  Republican\n",
       "2022-07-19           48  Republican\n",
       "2022-09-13           39  Republican\n",
       "2022-08-16           30  Republican\n",
       "2022-05-10           28  Republican\n",
       "2022-08-04           24  Republican\n",
       "2022-08-13           20  Republican\n",
       "2022-05-21           18  Republican\n",
       "2022-06-21           17  Republican\n",
       "2022-09-06           12  Republican\n",
       "2022-05-07            5  Republican\n",
       "2022-06-07          174  Democratic\n",
       "2022-05-17          141  Democratic\n",
       "2022-08-23          133  Democratic\n",
       "2022-08-02          111  Democratic\n",
       "2022-06-28           86  Democratic\n",
       "2022-03-01           84  Democratic\n",
       "2022-05-24           63  Democratic\n",
       "2022-05-03           53  Democratic\n",
       "2022-08-09           53  Democratic\n",
       "2022-07-19           42  Democratic\n",
       "2022-06-14           41  Democratic\n",
       "2022-09-13           19  Democratic\n",
       "2022-08-13           17  Democratic\n",
       "2022-08-04           16  Democratic\n",
       "2022-05-10           11  Democratic\n",
       "2022-09-06           11  Democratic\n",
       "2022-06-21           10  Democratic\n",
       "2022-08-16           10  Democratic\n",
       "2022-06-11            1  Democratic\n",
       "2022-05-21            1  Democratic"
      ]
     },
     "execution_count": 93,
     "metadata": {},
     "output_type": "execute_result"
    }
   ],
   "source": [
    "dem['Date_column'] = pd.to_datetime(dem['Date_column'])\n",
    "rep['Date_column'] = pd.to_datetime(rep['Date_column'])\n",
    "\n",
    "demRace = pd.DataFrame(dem['Date_column'].value_counts())\n",
    "repRace = pd.DataFrame(rep['Date_column'].value_counts())\n",
    "\n",
    "demRace['primaries'] = np.full((len(demRace)), 'Democratic')\n",
    "repRace['primaries'] = np.full((len(repRace)), 'Republican')\n",
    "\n",
    "df = pd.concat([repRace, demRace])\n",
    "df"
   ]
  },
  {
   "cell_type": "code",
   "execution_count": 94,
   "id": "6df23cea",
   "metadata": {
    "ExecuteTime": {
     "end_time": "2023-04-18T16:07:27.664649Z",
     "start_time": "2023-04-18T16:07:26.600869Z"
    }
   },
   "outputs": [
    {
     "data": {
      "image/png": "[encoded data removed]",
      "text/plain": [
       "<Figure size 1600x1200 with 1 Axes>"
      ]
     },
     "metadata": {},
     "output_type": "display_data"
    }
   ],
   "source": [
    "sns.set_theme(style='whitegrid')\n",
    "\n",
    "fig, ax = plt.subplots(figsize=(16,12))\n",
    "\n",
    "for axis in ['top','bottom','left','right']:\n",
    "    ax.spines[axis].set_linewidth(2)\n",
    "\n",
    "ax.spines['right'].set_visible(False)\n",
    "ax.spines['top'].set_visible(False)\n",
    "\n",
    "label_font = {'fontname':'serif','size':12}\n",
    "sns.lineplot(x=df.index, y=df['Date_column'], hue=df.primaries, data=df)\n",
    "\n",
    "plt.xlabel('Date', **label_font)\n",
    "plt.xticks(rotation=30)\n",
    "plt.ylabel('')\n",
    "\n",
    "plt.savefig('Date_line.png', bbox_inches = 'tight', dpi=250)\n",
    "plt.show()"
   ]
  },
  {
   "cell_type": "markdown",
   "id": "94b119ce",
   "metadata": {},
   "source": [
    "****"
   ]
  },
  {
   "cell_type": "code",
   "execution_count": 95,
   "id": "2e4afd92",
   "metadata": {
    "ExecuteTime": {
     "end_time": "2023-04-18T16:07:32.984154Z",
     "start_time": "2023-04-18T16:07:32.861184Z"
    }
   },
   "outputs": [
    {
     "name": "stdout",
     "output_type": "stream",
     "text": [
      "Date_line.png\tPrimary_elections.pdf  requirements.txt  zavrsni_projekat.ipynb\r\n",
      "Office_bar.png\tprimary-project-2022   State_bar.png\t zavrsni_projekat.zip\r\n",
      "Pie_Gender.png\tRace_bar.png\t       zavrsni_projekat\r\n"
     ]
    }
   ],
   "source": [
    "!ls"
   ]
  },
  {
   "cell_type": "markdown",
   "id": "edf1e461",
   "metadata": {},
   "source": [
    "# E M A I L \n",
    "reporting"
   ]
  },
  {
   "cell_type": "code",
   "execution_count": 96,
   "id": "2ae0fe32",
   "metadata": {
    "ExecuteTime": {
     "end_time": "2023-04-18T16:07:34.249222Z",
     "start_time": "2023-04-18T16:07:34.236346Z"
    }
   },
   "outputs": [],
   "source": [
    "import email\n",
    "import smtplib\n",
    "import pandas as pd\n",
    "import getpass, imaplib\n",
    "from email import encoders \n",
    "from email.mime.base import MIMEBase\n",
    "from email.mime.text import MIMEText\n",
    "from email.mime.multipart import MIMEMultipart\n",
    "from datetime import date, datetime, timedelta\n",
    "from email.mime.application import MIMEApplication\n",
    "import os"
   ]
  },
  {
   "cell_type": "code",
   "execution_count": 97,
   "id": "86e707b2",
   "metadata": {
    "ExecuteTime": {
     "end_time": "2023-04-18T16:07:35.281294Z",
     "start_time": "2023-04-18T16:07:35.161219Z"
    }
   },
   "outputs": [
    {
     "name": "stdout",
     "output_type": "stream",
     "text": [
      "Date_line.png\tPrimary_elections.pdf  requirements.txt  zavrsni_projekat.ipynb\r\n",
      "Office_bar.png\tprimary-project-2022   State_bar.png\t zavrsni_projekat.zip\r\n",
      "Pie_Gender.png\tRace_bar.png\t       zavrsni_projekat\r\n"
     ]
    }
   ],
   "source": [
    "!ls"
   ]
  },
  {
   "cell_type": "code",
   "execution_count": 100,
   "id": "0c62f322",
   "metadata": {
    "ExecuteTime": {
     "end_time": "2023-04-18T16:08:38.536520Z",
     "start_time": "2023-04-18T16:08:38.531492Z"
    }
   },
   "outputs": [],
   "source": [
    "def send_email(subject, body, to_email, attachment_path=None):\n",
    "    \"\"\"Sends an email message with an optional attachment\"\"\"\n",
    "    \n",
    "    # Set up the email message\n",
    "    msg = MIMEMultipart()\n",
    "    #msg['From'] = 'sender@example.com'\n",
    "    msg['To'] = to_email\n",
    "    msg['Subject'] = subject\n",
    "\n",
    "    # Add body text to the message\n",
    "    msg.attach(MIMEText(body, 'plain'))\n",
    "\n",
    "    # Add attachment to the message, if specified\n",
    "    if attachment_path:\n",
    "        attachment = open(attachment_path, \"rb\")\n",
    "        part = MIMEBase('application', 'octet-stream')\n",
    "        part.set_payload(attachment.read())\n",
    "        encoders.encode_base64(part)\n",
    "        part.add_header('Content-Disposition', \"attachment; filename= %s\" % attachment_path)\n",
    "        msg.attach(part)\n",
    "\n",
    "    # Log in to the SMTP server\n",
    "    server = smtplib.SMTP('smtp.gmail.com', 587)\n",
    "    server.starttls()\n",
    "    server.login('zecevic050@gmail.com', email_psswd)\n",
    "\n",
    "    # Send the message\n",
    "    text = msg.as_string()\n",
    "    server.sendmail('zecevic050@gmail.com', to_email, text)\n",
    "    server.quit()"
   ]
  },
  {
   "cell_type": "code",
   "execution_count": 101,
   "id": "d2699272",
   "metadata": {
    "ExecuteTime": {
     "end_time": "2023-04-18T16:08:55.258428Z",
     "start_time": "2023-04-18T16:08:41.028264Z"
    }
   },
   "outputs": [],
   "source": [
    "path = 'zavrsni_projekat.zip'\n",
    "subject = 'Zavrsni projekat'\n",
    "body = 'Folder sa graficima analize dataseta \"Primary Election 2022\" i pdf izvjestajem'\n",
    "\n",
    "send_email(subject, body, to_email='aleksandar.zecevic@meteo.co.me', attachment_path=path)\n",
    "send_email(subject, body, to_email='zecevic050@gmail.com', attachment_path=path)"
   ]
  },
  {
   "cell_type": "code",
   "execution_count": 102,
   "id": "17dcc2ee",
   "metadata": {
    "ExecuteTime": {
     "end_time": "2023-04-18T16:08:59.614007Z",
     "start_time": "2023-04-18T16:08:59.606545Z"
    }
   },
   "outputs": [],
   "source": [
    "def download_file():\n",
    "    imapSession = imaplib.IMAP4_SSL('imap.gmail.com')\n",
    "    typ, accountDetails = imapSession.login('zecevic050@gmail.com', email_psswd)\n",
    "    if typ != 'OK':\n",
    "        print('Not able to sign in!')\n",
    "        raise\n",
    "\n",
    "    imapSession.select('Inbox')\n",
    "    typ, data = imapSession.search(None, f'SUBJECT \"{subject}\"') #Example 1\n",
    "    #typ, data = imapSession.search(None,\"(UNSEEN)\") #Example 2\n",
    "\n",
    "    if typ != 'OK':\n",
    "        print('Error searching Inbox.')\n",
    "        raise\n",
    "\n",
    "    msg_num = str((b''.join(data))).split(\" \")\n",
    "    new_items = [word.replace(\"'\",\"\").replace(\"b\",\"\") for word in msg_num]\n",
    "    if new_items[0] != \"\":\n",
    "        for msgId in new_items:\n",
    "            typ, messageParts = imapSession.fetch(msgId, '(RFC822)')\n",
    "            print(msgId)\n",
    "            if typ != 'OK':\n",
    "                print('Error fetching mail.')\n",
    "                raise\n",
    "            emailBody = messageParts[0][1]\n",
    "            # converts byte literal to string removing b''\n",
    "            raw_email_string = emailBody.decode('utf-8')\n",
    "            mail = email.message_from_string(raw_email_string)\n",
    "            for part in mail.walk():\n",
    "                if part.get_content_maintype() == 'multipart':\n",
    "                    continue\n",
    "                if part.get('Content-Disposition') is None:\n",
    "                    continue\n",
    "        fileName = 'zavrsni_projekat.zip'\n",
    "        if bool(fileName):\n",
    "            \n",
    "            filePath = os.path.join('/home/aleksandar/Downloads/', 'attachments', fileName)\n",
    "            if os.path.isfile(filePath):\n",
    "                raise Exception(f\"{fileName} already exists! This file can't be downloaded again. \")\n",
    "                #os.remove(filePath)\n",
    "            os.makedirs(os.path.dirname(filePath), exist_ok=True) \n",
    "            fp = open(filePath, 'wb')\n",
    "            fp.write(part.get_payload(decode=True))\n",
    "            print(fp)\n",
    "            fp.close()\n",
    " "
   ]
  },
  {
   "cell_type": "code",
   "execution_count": 103,
   "id": "6514c5f8",
   "metadata": {
    "ExecuteTime": {
     "end_time": "2023-04-18T16:09:04.327004Z",
     "start_time": "2023-04-18T16:09:00.551164Z"
    }
   },
   "outputs": [
    {
     "name": "stdout",
     "output_type": "stream",
     "text": [
      "967\n",
      "971\n"
     ]
    },
    {
     "ename": "Exception",
     "evalue": "zavrsni_projekat.zip already exists! This file can't be downloaded again. ",
     "output_type": "error",
     "traceback": [
      "\u001b[0;31m---------------------------------------------------------------------------\u001b[0m",
      "\u001b[0;31mException\u001b[0m                                 Traceback (most recent call last)",
      "Cell \u001b[0;32mIn[103], line 1\u001b[0m\n\u001b[0;32m----> 1\u001b[0m \u001b[43mdownload_file\u001b[49m\u001b[43m(\u001b[49m\u001b[43m)\u001b[49m\n",
      "Cell \u001b[0;32mIn[102], line 39\u001b[0m, in \u001b[0;36mdownload_file\u001b[0;34m()\u001b[0m\n\u001b[1;32m     37\u001b[0m filePath \u001b[38;5;241m=\u001b[39m os\u001b[38;5;241m.\u001b[39mpath\u001b[38;5;241m.\u001b[39mjoin(\u001b[38;5;124m'\u001b[39m\u001b[38;5;124m/home/aleksandar/Downloads/\u001b[39m\u001b[38;5;124m'\u001b[39m, \u001b[38;5;124m'\u001b[39m\u001b[38;5;124mattachments\u001b[39m\u001b[38;5;124m'\u001b[39m, fileName)\n\u001b[1;32m     38\u001b[0m \u001b[38;5;28;01mif\u001b[39;00m os\u001b[38;5;241m.\u001b[39mpath\u001b[38;5;241m.\u001b[39misfile(filePath):\n\u001b[0;32m---> 39\u001b[0m     \u001b[38;5;28;01mraise\u001b[39;00m \u001b[38;5;167;01mException\u001b[39;00m(\u001b[38;5;124mf\u001b[39m\u001b[38;5;124m\"\u001b[39m\u001b[38;5;132;01m{\u001b[39;00mfileName\u001b[38;5;132;01m}\u001b[39;00m\u001b[38;5;124m already exists! This file can\u001b[39m\u001b[38;5;124m'\u001b[39m\u001b[38;5;124mt be downloaded again. \u001b[39m\u001b[38;5;124m\"\u001b[39m)\n\u001b[1;32m     40\u001b[0m     \u001b[38;5;66;03m#os.remove(filePath)\u001b[39;00m\n\u001b[1;32m     41\u001b[0m os\u001b[38;5;241m.\u001b[39mmakedirs(os\u001b[38;5;241m.\u001b[39mpath\u001b[38;5;241m.\u001b[39mdirname(filePath), exist_ok\u001b[38;5;241m=\u001b[39m\u001b[38;5;28;01mTrue\u001b[39;00m) \n",
      "\u001b[0;31mException\u001b[0m: zavrsni_projekat.zip already exists! This file can't be downloaded again. "
     ]
    }
   ],
   "source": [
    "download_file()"
   ]
  },
  {
   "cell_type": "code",
   "execution_count": null,
   "id": "dea15df3",
   "metadata": {},
   "outputs": [],
   "source": [
    "#conda list -e > requirements.txt"
   ]
  },
  {
   "cell_type": "markdown",
   "id": "6372ad4b",
   "metadata": {},
   "source": [
    "# K R A J"
   ]
  }
 ],
 "metadata": {
  "kernelspec": {
   "display_name": "sql",
   "language": "python",
   "name": "sql"
  },
  "language_info": {
   "codemirror_mode": {
    "name": "ipython",
    "version": 3
   },
   "file_extension": ".py",
   "mimetype": "text/x-python",
   "name": "python",
   "nbconvert_exporter": "python",
   "pygments_lexer": "ipython3",
   "version": "3.9.16"
  }
 },
 "nbformat": 4,
 "nbformat_minor": 5
}
